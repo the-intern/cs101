{
 "cells": [
  {
   "cell_type": "markdown",
   "metadata": {},
   "source": [
    "# String Introduction\n",
    "\n",
    "## Start with a three-character string\n",
    "\n",
    "```python\n",
    "\"cat\"\n",
    "```\n",
    "\n",
    "The conceptual mistake you might make is to think of this as the word _cat_. True, it has that property. But a `string` is merely a **_container_** of characters _strung_ together. That is, it **contains** characters, in this case `c` and `a` and `t`.\n",
    "\n",
    "But it might as well contain a whole book: `In the beginning, God created ...`\n",
    "\n",
    "What do we mean by _container_?\n",
    "\n",
    "Envision this 📦 containing this `c` `a` `t` but defined and known by the syntax `\"cat\"`.\n",
    "\n",
    "Either the double (`\"\"`) or single (`''`) quotation marks act as a sort of wall that instructs the Python interpreter to treat these characters as the contents of a string.\n",
    "\n",
    "## Data Containers in General\n",
    "\n",
    "Python has several of container types. Right now we are focusing on `strings`. But it has `lists`, `dictionaries`, `sets`, `tuples`, and on and on. Each has advantages and each has peculiar features.\n",
    "\n",
    "In any given container type you look for basic things it can do. Some give you the ability to perform all four basic operations on data:\n",
    "\n",
    "- **C** reate data\n",
    "- **R** ead data\n",
    "- **U** pdate data\n",
    "- **D** elete data\n",
    "\n",
    "or `CRUD` operations.\n",
    "\n",
    "Not all container types provide all four features. Nonetheless they **_all_** have the ability to **_create_** and **_read_** the data stored.\n",
    "\n",
    "## Reading from a String\n",
    "\n",
    "So how do you read from a string? That is, it's one thing to get the whole `string`, but many times you want a particular character or range of characters, not the entire object.\n",
    "\n",
    "For that you need a **window** into the container.\n",
    "\n",
    "What does a window look like?\n",
    "\n",
    "**Well not . . .**\n",
    "\n",
    "```python\n",
    "# Nope\n",
    "\"cat\"( )\n",
    "```\n",
    "\n",
    "**Nor this . . .**\n",
    "\n",
    "```python\n",
    "# Yeah, no\n",
    "\"cat\"{ }\n",
    "```\n",
    "\n",
    "**But this**\n",
    "\n",
    "```python\n",
    "\"cat\"[ ]\n",
    "# where the 'window' square brackets contain an integer\n",
    "\n",
    "```\n",
    "\n",
    "Within that window you put an `integer` -- the index of the character's location.\n",
    "\n",
    "![](../images/part-ii/string-index.png)\n",
    "\n",
    "For now, just think of getting one character at a time. Because the container's index values begin with `0`, in the Python `shell` you might have:\n",
    "\n"
   ]
  },
  {
   "cell_type": "code",
   "execution_count": 7,
   "metadata": {},
   "outputs": [
    {
     "name": "stdout",
     "output_type": "stream",
     "text": [
      "c\n",
      "a\n",
      "t\n",
      "t\n",
      "a\n"
     ]
    }
   ],
   "source": [
    "cat = \"cat\"\n",
    "print(cat[0]) # 'c'\n",
    "print(cat[1]) # 'a'\n",
    "print(cat[2]) # 't'\n",
    "print(cat[-1]) # 't'\n",
    "print(cat[-2]) # 'a'\n"
   ]
  },
  {
   "cell_type": "markdown",
   "metadata": {},
   "source": [
    "That was the barebones basics. But strings consist of far, far more.\n"
   ]
  }
 ],
 "metadata": {
  "kernelspec": {
   "display_name": "Python 3.8.13 64-bit ('anaconda3')",
   "language": "python",
   "name": "python3"
  },
  "language_info": {
   "codemirror_mode": {
    "name": "ipython",
    "version": 3
   },
   "file_extension": ".py",
   "mimetype": "text/x-python",
   "name": "python",
   "nbconvert_exporter": "python",
   "pygments_lexer": "ipython3",
   "version": "3.8.13"
  },
  "orig_nbformat": 4,
  "vscode": {
   "interpreter": {
    "hash": "910010b9128fec0bda95a110deaa2f7baca3ef79608cce04836aad2a922a4fb5"
   }
  }
 },
 "nbformat": 4,
 "nbformat_minor": 2
}
