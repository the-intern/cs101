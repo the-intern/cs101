{
 "cells": [
  {
   "cell_type": "markdown",
   "metadata": {},
   "source": [
    "# Strings - Continued\n",
    "\n",
    "## Definition\n",
    "\n",
    "A string is a sequence (ordered) of characters surrounded by either single or double quotes.\n",
    "\n",
    "```python\n",
    "'I am a string!'\n",
    "# or\n",
    "\"I am a string!\"\n",
    "\n",
    "```\n",
    "\n",
    "Just remember, however, whatever kind of quotation mark **starts** the string must also **end** the string.\n",
    "\n",
    "When you use which is not always important, but sometimes it determines what you might do within it.\n",
    "\n",
    "For example, double quotes `\"\"` allows you to include apostrophes (e.g., for contractions or possessives) inside of quotes as a character in the string.\n",
    "\n",
    "```python\n",
    "\"I'm glad to know ya.\"\n",
    "\n",
    "```\n",
    "\n",
    "In the case of that contraction above, were you to have started the string with single quotes, you would have had to `escape` the apostrophe:\n"
   ]
  },
  {
   "cell_type": "code",
   "execution_count": null,
   "metadata": {},
   "outputs": [],
   "source": [
    "mystring = 'I\\'m glad to know ya.'\n",
    "print(mystring)"
   ]
  },
  {
   "cell_type": "markdown",
   "metadata": {},
   "source": [
    "The backslash `\\` just before the apostrophe 'escapes' it, i.e., it is read literally and not interpreted as the end of the string."
   ]
  },
  {
   "cell_type": "markdown",
   "metadata": {},
   "source": [
    "## Variables Are Not Strings\n",
    "\n",
    "Sometimes you might think you are creating a string, but you forget the quotation marks.  Hence, if you were to run:\n",
    "\n",
    "```python\n",
    "hello\n",
    "```\n",
    "\n",
    "you'll get an error --- `NameError: name 'Hello' is not defined`\n",
    "\n",
    "The `NameError` typically means you used a variable-like term, but you've used it before you defined it, by which we mean something like this:\n",
    "\n",
    "```python\n",
    "hello = \"Hello\"\n",
    "\n",
    "```"
   ]
  },
  {
   "cell_type": "markdown",
   "metadata": {},
   "source": [
    "Which of the following are valid strings in Python?\n",
    "\n",
    "\n",
    "a. `\"Burger\" `\n",
    "\n",
    "b. `'Burger\"` \n",
    "\n",
    "c. `\"Burger `\n",
    "\n",
    "d. `Burger`\n",
    "\n",
    "e. `'\"Burger'`\n",
    "\n",
    "Try them out below:\n"
   ]
  },
  {
   "cell_type": "code",
   "execution_count": 12,
   "metadata": {},
   "outputs": [],
   "source": []
  }
 ],
 "metadata": {
  "kernelspec": {
   "display_name": "Python 3.8.13 64-bit ('anaconda3')",
   "language": "python",
   "name": "python3"
  },
  "language_info": {
   "codemirror_mode": {
    "name": "ipython",
    "version": 3
   },
   "file_extension": ".py",
   "mimetype": "text/x-python",
   "name": "python",
   "nbconvert_exporter": "python",
   "pygments_lexer": "ipython3",
   "version": "3.8.13"
  },
  "orig_nbformat": 4,
  "vscode": {
   "interpreter": {
    "hash": "910010b9128fec0bda95a110deaa2f7baca3ef79608cce04836aad2a922a4fb5"
   }
  }
 },
 "nbformat": 4,
 "nbformat_minor": 2
}
