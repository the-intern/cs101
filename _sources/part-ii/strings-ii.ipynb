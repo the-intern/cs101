{
 "cells": [
  {
   "cell_type": "markdown",
   "metadata": {},
   "source": [
    "# Strings - Continued\n",
    "\n",
    "## Definition\n",
    "\n",
    "To repeat, a __string__ is a __sequence__ (i.e.,  it is ordered) of characters surrounded by either single, double, or even triple quotes.\n",
    "\n",
    "```python\n",
    "'I am a string!'\n",
    "\n",
    "# or\n",
    "\n",
    "\"I am a string!\"\n",
    "\n",
    "# or even\n",
    "\n",
    "'''\n",
    "You can use these \n",
    "triple quotes\n",
    "for multiline strings\n",
    "    and even literal formatting\n",
    " '''\n",
    "\n",
    "```\n",
    "\n",
    "Just remember, however, that whatever kind of quotation mark **starts** the string, it must also **end** the string.  That is, you cannot start a string with `\"` and end with `'` and vice versa.\n",
    "\n",
    "When you use which is not always important, but sometimes what you might do within the string helps drive your decision.  For example, double quotes `\"\"` allows you to include apostrophes (e.g., for contractions or possessives) inside of quotes as a character in the string.\n",
    "\n",
    "```python\n",
    "\"I'm glad to know ya.\"\n",
    "\n",
    "```\n",
    "\n",
    "In the case of that contraction above, were you to have started the string with single quotes, you would have had to `escape` the apostrophe:\n"
   ]
  },
  {
   "cell_type": "code",
   "execution_count": 5,
   "metadata": {},
   "outputs": [
    {
     "name": "stdout",
     "output_type": "stream",
     "text": [
      "I'm glad to know ya.\n"
     ]
    }
   ],
   "source": [
    "mystring = 'I\\'m glad to know ya.'\n",
    "print(mystring)"
   ]
  },
  {
   "cell_type": "markdown",
   "metadata": {},
   "source": [
    "(The backslash `\\` just before the apostrophe 'escapes' it, i.e., it is read literally and not interpreted as the end of the string.)"
   ]
  },
  {
   "cell_type": "markdown",
   "metadata": {},
   "source": [
    "## Variables Are Not Strings\n",
    "\n",
    "Sometimes you might think you are creating a string, but you forget the quotation marks.  Hence, if you were to run:\n",
    "\n",
    "```python\n",
    "hello\n",
    "```\n",
    "\n",
    "you'll get an error --- `NameError: name 'Hello' is not defined`\n",
    "\n",
    "The `NameError` typically means you used a variable-like term, but you've used it before you defined it.\n"
   ]
  },
  {
   "cell_type": "markdown",
   "metadata": {},
   "source": [
    "Consider which of the following are valid strings in Python and try them out in a code cell:\n",
    "\n",
    "a. `\"Burger\" `\n",
    "\n",
    "b. `'Burger\"` \n",
    "\n",
    "c. `\"Burger `\n",
    "\n",
    "d. `Burger`\n",
    "\n",
    "e. `'\"Burger'`\n"
   ]
  },
  {
   "cell_type": "markdown",
   "metadata": {},
   "source": [
    "## Using Operators on Strings"
   ]
  },
  {
   "cell_type": "markdown",
   "metadata": {},
   "source": [
    "We can also use the plus operator `+` on strings, but with a different opoeration than on numbers. \n",
    "\n",
    "With string, plus `+` means `concatenation`, i.e., chaining strings together.\n",
    "\n",
    "`\"Fred\" + \"Wilma\"` outputs the concatenation of the two strings as `FredWilma`."
   ]
  },
  {
   "cell_type": "code",
   "execution_count": 9,
   "metadata": {},
   "outputs": [
    {
     "data": {
      "text/plain": [
       "'FredWilma'"
      ]
     },
     "execution_count": 9,
     "metadata": {},
     "output_type": "execute_result"
    }
   ],
   "source": [
    "fred = \"Fred\"\n",
    "wilma = \"Wilma\"\n",
    "\n",
    "fred + wilma"
   ]
  },
  {
   "cell_type": "markdown",
   "metadata": {},
   "source": [
    "You can create a space between the strings by adding a space to one of the strings. You can also continue to add strings as many times as you need."
   ]
  },
  {
   "cell_type": "code",
   "execution_count": 10,
   "metadata": {},
   "outputs": [
    {
     "name": "stdout",
     "output_type": "stream",
     "text": [
      "Hello Betty!!!\n"
     ]
    }
   ],
   "source": [
    "name = 'Betty'\n",
    "print('Hello ' + name + '!' + '!' + '!')"
   ]
  },
  {
   "cell_type": "markdown",
   "metadata": {},
   "source": [
    "### Type Matters When Using `+` Operator"
   ]
  },
  {
   "cell_type": "markdown",
   "metadata": {},
   "source": [
    "You cannot concatenate a string with a number type:\n",
    "\n",
    "```python\n",
    ">>> \"Hello \" + 2023\n",
    "...\n",
    "TypeError: can only concatenate str (not \"int\") to str\n",
    "```"
   ]
  },
  {
   "cell_type": "markdown",
   "metadata": {},
   "source": [
    "Thus, you need to `convert` the integer to a string:\n",
    "\n",
    "```python\n",
    ">>> \"Hello \" + str(2023)\n",
    "'Hello 2023'\n",
    "\n",
    "```"
   ]
  },
  {
   "cell_type": "markdown",
   "metadata": {},
   "source": [
    "### But You Can Multiply Strings with `*` and Integers"
   ]
  },
  {
   "cell_type": "markdown",
   "metadata": {},
   "source": [
    "```python\n",
    ">>> \"Hello\" * 3\n",
    "'HelloHelloHello'\n",
    "```"
   ]
  },
  {
   "cell_type": "markdown",
   "metadata": {},
   "source": [
    "## Indexing Strings"
   ]
  },
  {
   "cell_type": "markdown",
   "metadata": {},
   "source": [
    "Because strings are __sequences__, they are __ordered__ --- meaning you can retrieve them by indexes and slices.\n",
    "\n",
    "As noted earlier, when you want to select sub-sequences use the square brackets `[]` to specify which part of the string you want to select. \n",
    "\n",
    "```some string[<integer value>]```\n",
    "\n",
    "remembering that sequences are indexed beginning at zero:"
   ]
  },
  {
   "cell_type": "code",
   "execution_count": 7,
   "metadata": {},
   "outputs": [
    {
     "name": "stdout",
     "output_type": "stream",
     "text": [
      "T\n"
     ]
    }
   ],
   "source": [
    "sentence = \"The quick brown fox jumps over the lazy dog\"\n",
    "\n",
    "print(sentence[0]) # prints 'T'"
   ]
  },
  {
   "cell_type": "markdown",
   "metadata": {},
   "source": [
    "Another way to think of this is comparing a string to a series of __vectors__, i.e., each character in the string is a 2-dimensional _vector_ containing both an index position and a character value.    "
   ]
  },
  {
   "cell_type": "markdown",
   "metadata": {},
   "source": [
    "Once again here is the index mapping:\n",
    "\n",
    "![index map](images/string-index.png)"
   ]
  },
  {
   "cell_type": "markdown",
   "metadata": {},
   "source": [
    "Beware of the index range.  If you choose a index value that doesn't exist, Python will crash the program:\n",
    "\n",
    "```python\n",
    ">>> name = 'Yuri'\n",
    ">>> print name[4]\n",
    "IndexError: string index out of range\n",
    "```"
   ]
  },
  {
   "cell_type": "markdown",
   "metadata": {},
   "source": [
    "### Quiz Yourself\n",
    "\n",
    "Given the variable\n",
    "\n",
    "```python\n",
    "\n",
    "s = 'elephant'\n",
    "\n",
    "```\n",
    "which of these pairs are two things with the exact same value?\n",
    "\n",
    "a. `s[3] <-> s[1+1+1]`\n",
    "\n",
    "b. `s[0] <-> (s+s)[0]`\n",
    "\n",
    "c. `s[0] + s[1] <-> s[0+1]`\n",
    "\n",
    "d. `s[1] <-> (s + 'aei') [1]`\n",
    "\n",
    "e. `s[-1] <-> (s + s)[-1]`"
   ]
  },
  {
   "cell_type": "markdown",
   "metadata": {},
   "source": [
    "### Selecting Sub-Sequences from Strings "
   ]
  },
  {
   "cell_type": "markdown",
   "metadata": {},
   "source": [
    "```\n",
    "\"some string\"[integer] --> a one-character string\n",
    "\n",
    "\"some string\"[integer:another integer] --> a substring of the string\n",
    "```\n",
    "\n",
    "For example:"
   ]
  },
  {
   "cell_type": "code",
   "execution_count": 11,
   "metadata": {},
   "outputs": [
    {
     "name": "stdout",
     "output_type": "stream",
     "text": [
      "u\n",
      "me\n",
      "me\n",
      "as\n",
      "assume\n"
     ]
    }
   ],
   "source": [
    "word = 'assume'\n",
    "\n",
    "print (word[3])\n",
    "# u\n",
    "print (word[4:6])\n",
    "# me\n",
    "print (word[4:])\n",
    "# me\n",
    "print (word[:2])\n",
    "# as\n",
    "print (word[:])\n",
    "# assume\n"
   ]
  }
 ],
 "metadata": {
  "kernelspec": {
   "display_name": "Python 3.10.5 ('jupyterbook-env')",
   "language": "python",
   "name": "python3"
  },
  "language_info": {
   "codemirror_mode": {
    "name": "ipython",
    "version": 3
   },
   "file_extension": ".py",
   "mimetype": "text/x-python",
   "name": "python",
   "nbconvert_exporter": "python",
   "pygments_lexer": "ipython3",
   "version": "3.10.5"
  },
  "orig_nbformat": 4,
  "vscode": {
   "interpreter": {
    "hash": "7abb8d9814038c526395fc1465b541e1649bf4442093ad31b35e8177e1cf2168"
   }
  }
 },
 "nbformat": 4,
 "nbformat_minor": 2
}
