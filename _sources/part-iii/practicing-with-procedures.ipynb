{
 "cells": [
  {
   "cell_type": "markdown",
   "metadata": {},
   "source": [
    "# Practicing with Procedures\n",
    "\n",
    "<div style=\"border-bottom: 10px; padding:10px;border: 1px solid gray;border-radius: 5px\">\n",
    "\n",
    "<b>Try the code in here by launching 🚀 this notebook</b>\n",
    "\n",
    "[![Binder](https://mybinder.org/badge_logo.svg)](https://mybinder.org/v2/gh/caterinadiacomo/caterina-man-made-code/part-iii-procs?labpath=src%2Fpart-iii-procs)\n",
    "\n",
    "</div>"
   ]
  },
  {
   "cell_type": "markdown",
   "metadata": {},
   "source": [
    "Let's go back to slicing ..."
   ]
  },
  {
   "cell_type": "code",
   "execution_count": null,
   "metadata": {},
   "outputs": [],
   "source": [
    "some_string = \"What's done well is well done.\"\n",
    "# get the third character\n",
    "third_chr = some_string[2]\n",
    "\n",
    "print(third_chr)"
   ]
  },
  {
   "cell_type": "markdown",
   "metadata": {},
   "source": [
    "Now let's turn that into a procedure we can call whenever we want, but let's start small."
   ]
  },
  {
   "cell_type": "code",
   "execution_count": null,
   "metadata": {},
   "outputs": [],
   "source": [
    "def get_third_character():\n",
    "    some_string = \"What's done well is well done.\"\n",
    "    # get the third character\n",
    "    third_chr = some_string[2]\n",
    "    # now return that value\n",
    "    return third_chr"
   ]
  },
  {
   "cell_type": "markdown",
   "metadata": {},
   "source": [
    "Great.  Now, whenever we want the third character in the string `What's done well is well done.`, we merely call `get_third_character()`."
   ]
  },
  {
   "cell_type": "code",
   "execution_count": null,
   "metadata": {},
   "outputs": [],
   "source": [
    "get_that_third = get_third_character()\n",
    "print(get_that_third)"
   ]
  },
  {
   "cell_type": "markdown",
   "metadata": {},
   "source": [
    "## Abstraction\n",
    "\n",
    "Immediately you think, ___\"That's not all that useful.  We are stuck with the same string and the same character every time.  What's the point of such a constrained, limited procedure?\"___\n",
    "\n",
    "That's where `parameters` or `arguments` come into play.  These are what give a procedure it's usefulness --- it can act differently depending on the data we feed it.  \n",
    "\n",
    "And we ___feed it___ into the procedure by using those parentheses `()` found just before the colon in the procedure's definition.\n",
    "\n",
    "So instead of being stuck with the same string and same character from that string, we'll alter the procedure.\n",
    "\n",
    "And, in keeping with its new-found versatility, we'll rename it."
   ]
  },
  {
   "cell_type": "code",
   "execution_count": null,
   "metadata": {},
   "outputs": [],
   "source": [
    "def get_a_char(chr_index_value):\n",
    "    some_string = \"What's done well is well done.\"\n",
    "    character = some_string[chr_index_value]\n",
    "    return character \n"
   ]
  },
  {
   "cell_type": "markdown",
   "metadata": {},
   "source": [
    "Well, we're still stuck with the same string, but we've improved a bit:  we can get any character from the string `What's done well is well done.`  "
   ]
  },
  {
   "cell_type": "code",
   "execution_count": null,
   "metadata": {},
   "outputs": [],
   "source": [
    "ninth_chr = get_a_char(9)\n",
    "print(ninth_chr)"
   ]
  },
  {
   "cell_type": "markdown",
   "metadata": {},
   "source": [
    "A slight improvement --- but let's improve it a little more: ___any___ string and any index value in that string (with appropriate nomenclature):"
   ]
  },
  {
   "cell_type": "code",
   "execution_count": null,
   "metadata": {},
   "outputs": [],
   "source": [
    "def get_chr(any_string, index):\n",
    "    character = any_string[index]\n",
    "    return character"
   ]
  },
  {
   "cell_type": "markdown",
   "metadata": {},
   "source": [
    "Now we use any string and get the character occupying any index value in that string:"
   ]
  },
  {
   "cell_type": "code",
   "execution_count": null,
   "metadata": {},
   "outputs": [],
   "source": [
    "# string to use\n",
    "our_string = \"Four score and seven years ago\"\n",
    "# some integer \n",
    "indx_value = 11\n",
    "# call procedure and put in variable 'the_a'\n",
    "the_a = get_chr(our_string, indx_value)\n",
    "\n",
    "print(the_a)"
   ]
  },
  {
   "cell_type": "markdown",
   "metadata": {},
   "source": [
    "## Re-Usable, Over and Over\n",
    "\n",
    "Keep in mind that, once you define the procedure, you can use it, i.e., `call` it over and over; moreover, you need not define it every time you call it.  ___You define it once; you call it repeatedly.__"
   ]
  },
  {
   "cell_type": "markdown",
   "metadata": {},
   "source": [
    "## Exercises"
   ]
  },
  {
   "cell_type": "markdown",
   "metadata": {},
   "source": [
    "Write a procedure that takes in three integers and returns the sum of their squares:"
   ]
  },
  {
   "cell_type": "code",
   "execution_count": null,
   "metadata": {},
   "outputs": [],
   "source": [
    "def sum_of_squares(a, b, c):\n",
    "    # note: remove the word pass below!\n",
    "    # and replace it with your code\n",
    "    pass\n",
    "    "
   ]
  },
  {
   "cell_type": "markdown",
   "metadata": {},
   "source": [
    "You can test your code if you launch this notebook in binder 👉 [![Binder](https://mybinder.org/badge_logo.svg)](https://mybinder.org/v2/gh/caterinadiacomo/caterina-man-made-code/part-iii-procs?labpath=src%2Fpart-iii-procs)\n"
   ]
  },
  {
   "cell_type": "markdown",
   "metadata": {},
   "source": [
    "Write a procedure that takes as arguments a string and returns a float representing half the string's length:"
   ]
  },
  {
   "cell_type": "code",
   "execution_count": null,
   "metadata": {},
   "outputs": [],
   "source": [
    "def half_length(s):\n",
    "    # note: remove the word pass below!\n",
    "    # and replace it with your code\n",
    "    pass "
   ]
  },
  {
   "cell_type": "markdown",
   "metadata": {},
   "source": [
    "Write a procedure that takes in three characters (___single___ letter strings, e.g., 'a', 'r', '3') and return the sum of their Unicode code points.  From the Python docs:\n",
    "\n",
    "> Given a string representing one Unicode character, return an integer representing the Unicode code point of that character. For example, `ord('a')` returns the integer 97 ... This is the inverse of `chr()`.\n",
    "\n",
    "Thus:\n",
    "\n",
    "```python\n",
    ">>> ord('a')\n",
    "97\n",
    ">>> ord('b')\n",
    "98\n",
    ">>> ord('4')\n",
    "52\n",
    "```"
   ]
  },
  {
   "cell_type": "code",
   "execution_count": null,
   "metadata": {},
   "outputs": [],
   "source": [
    "def sum_code_points(x, y, z):\n",
    "    # remember to replace pass with your code!\n",
    "    pass"
   ]
  },
  {
   "cell_type": "markdown",
   "metadata": {},
   "source": [
    "Write a procedure that increments a float or integer by 1 and returns that incremented value"
   ]
  },
  {
   "cell_type": "code",
   "execution_count": null,
   "metadata": {},
   "outputs": [],
   "source": [
    "def incr(x):\n",
    "    pass "
   ]
  },
  {
   "cell_type": "markdown",
   "metadata": {},
   "source": [
    "Write a procedure that returns the very last character of a string"
   ]
  },
  {
   "cell_type": "code",
   "execution_count": null,
   "metadata": {},
   "outputs": [],
   "source": [
    "def get_last_chr(a_string):\n",
    "    pass "
   ]
  },
  {
   "cell_type": "markdown",
   "metadata": {},
   "source": [
    "According to Newton's second law of motion, force can be expressed as the product of mass and acceleration of the body.  Write a procedure that, given the mass and acceleration of an object, returns the force."
   ]
  },
  {
   "cell_type": "code",
   "execution_count": null,
   "metadata": {},
   "outputs": [],
   "source": [
    "def get_force(mass, acceleration):\n",
    "    pass"
   ]
  },
  {
   "cell_type": "markdown",
   "metadata": {},
   "source": [
    "Write a procedure that, taking in two strings, returns a string that is the first string, followed by two repetitions of the second string, followed by the first string."
   ]
  },
  {
   "cell_type": "code",
   "execution_count": null,
   "metadata": {},
   "outputs": [],
   "source": [
    "def abba_ize(a,b):\n",
    "    pass"
   ]
  },
  {
   "cell_type": "markdown",
   "metadata": {},
   "source": [
    "\n",
    "<div style=\"border-bottom: 10px; padding:10px;border: 1px solid gray;border-radius: 5px\">\n",
    "\n",
    "<b>In case you missed it the first, seventh, and fifteenth times, try the code in here by launching 🚀 this notebook</b>\n",
    "\n",
    "[![Binder](https://mybinder.org/badge_logo.svg)](https://mybinder.org/v2/gh/caterinadiacomo/caterina-man-made-code/part-iii-procs?labpath=src%2Fpart-iii-procs)\n",
    "\n",
    "</div>"
   ]
  }
 ],
 "metadata": {
  "kernelspec": {
   "display_name": "Python 3 (ipykernel)",
   "language": "python",
   "name": "python3"
  },
  "language_info": {
   "codemirror_mode": {
    "name": "ipython",
    "version": 3
   },
   "file_extension": ".py",
   "mimetype": "text/x-python",
   "name": "python",
   "nbconvert_exporter": "python",
   "pygments_lexer": "ipython3",
   "version": "3.10.5"
  },
  "vscode": {
   "interpreter": {
    "hash": "7abb8d9814038c526395fc1465b541e1649bf4442093ad31b35e8177e1cf2168"
   }
  }
 },
 "nbformat": 4,
 "nbformat_minor": 4
}
