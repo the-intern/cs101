{
 "cells": [
  {
   "cell_type": "markdown",
   "metadata": {},
   "source": [
    "# Practicing with Procedures"
   ]
  },
  {
   "cell_type": "markdown",
   "metadata": {},
   "source": [
    "Let's go back to slicing ..."
   ]
  },
  {
   "cell_type": "code",
   "execution_count": 7,
   "metadata": {},
   "outputs": [
    {
     "name": "stdout",
     "output_type": "stream",
     "text": [
      "a\n"
     ]
    }
   ],
   "source": [
    "some_string = \"What's done well is well done.\"\n",
    "# get the third character\n",
    "third_chr = some_string[2]\n",
    "\n",
    "print(third_chr)"
   ]
  },
  {
   "cell_type": "markdown",
   "metadata": {},
   "source": [
    "Now let's turn that into a procedure we can call whenever we want, but let's start small."
   ]
  },
  {
   "cell_type": "code",
   "execution_count": 8,
   "metadata": {},
   "outputs": [],
   "source": [
    "def get_third_character():\n",
    "    some_string = \"What's done well is well done.\"\n",
    "    # get the third character\n",
    "    third_chr = some_string[2]\n",
    "    # now return that value\n",
    "    return third_chr"
   ]
  },
  {
   "cell_type": "markdown",
   "metadata": {},
   "source": [
    "Great.  Now, whenever we want the third character in the string `What's done well is well done.`, we merely call `get_third_character()`."
   ]
  },
  {
   "cell_type": "code",
   "execution_count": 9,
   "metadata": {},
   "outputs": [
    {
     "name": "stdout",
     "output_type": "stream",
     "text": [
      "a\n"
     ]
    }
   ],
   "source": [
    "get_that_third = get_third_character()\n",
    "print(get_that_third)"
   ]
  },
  {
   "cell_type": "markdown",
   "metadata": {},
   "source": [
    "## Abstraction\n",
    "\n",
    "Immediately you think, \"That's not all that useful.  We are stuck with the same string and the same character every time.  What's the point of such a constrained, limited procedure?\"\n",
    "\n",
    "That's where `parameters` or `arguments` come into play.  These are what give a procedure it's usefulness --- it can act differently depending on the data we give it.\n",
    "\n",
    "So instead of being stuck with the same string and same character from that string, we'll alter the procedure.\n",
    "\n",
    "And, in keeping with its new-found versatility, we'll rename it."
   ]
  },
  {
   "cell_type": "code",
   "execution_count": 10,
   "metadata": {},
   "outputs": [],
   "source": [
    "def get_a_char(chr_index_value):\n",
    "    some_string = \"What's done well is well done.\"\n",
    "    character = some_string[chr_index_value]\n",
    "    return character \n"
   ]
  },
  {
   "cell_type": "markdown",
   "metadata": {},
   "source": [
    "Well, we're still stuck with the same string, but we've improved a bit:  we can get any character from the string `What's done well is well done.`  "
   ]
  },
  {
   "cell_type": "code",
   "execution_count": 11,
   "metadata": {},
   "outputs": [
    {
     "name": "stdout",
     "output_type": "stream",
     "text": [
      "n\n"
     ]
    }
   ],
   "source": [
    "ninth_chr = get_a_char(9)\n",
    "print(ninth_chr)"
   ]
  },
  {
   "cell_type": "markdown",
   "metadata": {},
   "source": [
    "A slight improvement --- but let's improve it a little more: ___any___ string and any index value in that string (with appropriate nomenclature):"
   ]
  },
  {
   "cell_type": "code",
   "execution_count": 12,
   "metadata": {},
   "outputs": [],
   "source": [
    "def get_chr(any_string, index):\n",
    "    character = any_string[index]\n",
    "    return character"
   ]
  },
  {
   "cell_type": "markdown",
   "metadata": {},
   "source": [
    "Now we use any string and get the character occupying any index value in that string:"
   ]
  },
  {
   "cell_type": "code",
   "execution_count": 14,
   "metadata": {},
   "outputs": [
    {
     "name": "stdout",
     "output_type": "stream",
     "text": [
      "a\n"
     ]
    }
   ],
   "source": [
    "# string to use\n",
    "our_string = \"Four score and seven years ago\"\n",
    "# some integer \n",
    "indx_value = 11\n",
    "# call procedure and put in variable 'the_a'\n",
    "the_a = get_chr(our_string, indx_value)\n",
    "\n",
    "print(the_a)"
   ]
  },
  {
   "cell_type": "code",
   "execution_count": null,
   "metadata": {},
   "outputs": [],
   "source": []
  }
 ],
 "metadata": {
  "kernelspec": {
   "display_name": "Python 3.10.5 ('jupyterbook-env')",
   "language": "python",
   "name": "python3"
  },
  "language_info": {
   "codemirror_mode": {
    "name": "ipython",
    "version": 3
   },
   "file_extension": ".py",
   "mimetype": "text/x-python",
   "name": "python",
   "nbconvert_exporter": "python",
   "pygments_lexer": "ipython3",
   "version": "3.10.5"
  },
  "orig_nbformat": 4,
  "vscode": {
   "interpreter": {
    "hash": "7abb8d9814038c526395fc1465b541e1649bf4442093ad31b35e8177e1cf2168"
   }
  }
 },
 "nbformat": 4,
 "nbformat_minor": 2
}
