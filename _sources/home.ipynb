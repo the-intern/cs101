{
 "cells": [
  {
   "cell_type": "markdown",
   "id": "2671c01d",
   "metadata": {},
   "source": [
    "# CS 101 - An Introduction to Programming in Python\n",
    "\n",
    "```{warning}\n",
    "\n",
    "__This site is updated approximately every two days.  Clear your browser's cache when visiting so that it loads the updates.__\n",
    "\n",
    "```"
   ]
  }
 ],
 "metadata": {
  "jupytext": {
   "formats": "md:myst",
   "text_representation": {
    "extension": ".md",
    "format_name": "myst"
   }
  },
  "kernelspec": {
   "display_name": "Python 3",
   "language": "python",
   "name": "python3"
  },
  "source_map": [
   11
  ]
 },
 "nbformat": 4,
 "nbformat_minor": 5
}