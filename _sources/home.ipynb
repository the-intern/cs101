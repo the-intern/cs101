{
 "cells": [
  {
   "cell_type": "markdown",
   "id": "0fab76c7",
   "metadata": {},
   "source": [
    "# CS 101 - An Introduction to Programming in Python\n",
    "\n",
    "\n",
    "````{card} An Introduction to Python, CS, and the Web\n",
    "\n",
    "This is a tour through programming in Python and, along the way, a way to learn some of the first elements of computer science.\n",
    "\n",
    "````"
   ]
  }
 ],
 "metadata": {
  "jupytext": {
   "formats": "md:myst",
   "text_representation": {
    "extension": ".md",
    "format_name": "myst"
   }
  },
  "kernelspec": {
   "display_name": "Python 3",
   "language": "python",
   "name": "python3"
  },
  "language_info": {
   "codemirror_mode": {
    "name": "ipython",
    "version": 3
   },
   "file_extension": ".py",
   "mimetype": "text/x-python",
   "name": "python",
   "nbconvert_exporter": "python",
   "pygments_lexer": "ipython3",
   "version": "3.10.5"
  },
  "source_map": [
   11
  ]
 },
 "nbformat": 4,
 "nbformat_minor": 5
}