{
 "cells": [
  {
   "cell_type": "markdown",
   "id": "5a99eb6b-f89e-4378-bdc1-8f49b9c56c68",
   "metadata": {},
   "source": [
    "# Quick Quiz"
   ]
  },
  {
   "cell_type": "code",
   "execution_count": null,
   "id": "66fb1c24-7787-4e51-9ed5-bccf05ca6660",
   "metadata": {},
   "outputs": [],
   "source": []
  }
 ],
 "metadata": {
  "kernelspec": {
   "display_name": "Python 3.10.5 ('jupyterbook-env')",
   "language": "python",
   "name": "python3"
  },
  "language_info": {
   "codemirror_mode": {
    "name": "ipython",
    "version": 3
   },
   "file_extension": ".py",
   "mimetype": "text/x-python",
   "name": "python",
   "nbconvert_exporter": "python",
   "pygments_lexer": "ipython3",
   "version": "3.10.5"
  },
  "vscode": {
   "interpreter": {
    "hash": "7abb8d9814038c526395fc1465b541e1649bf4442093ad31b35e8177e1cf2168"
   }
  }
 },
 "nbformat": 4,
 "nbformat_minor": 5
}
