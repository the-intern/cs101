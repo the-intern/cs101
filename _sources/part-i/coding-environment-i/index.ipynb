{
 "cells": [
  {
   "cell_type": "markdown",
   "id": "86f3214a-5673-45dc-937f-d0b518cbf877",
   "metadata": {},
   "source": [
    "# Coding Environment"
   ]
  },
  {
   "cell_type": "markdown",
   "id": "7bc3f42e",
   "metadata": {},
   "source": [
    "![coding](assets/images/coding.png)"
   ]
  },
  {
   "cell_type": "markdown",
   "id": "8db4b840-c86f-4b91-9d4a-53a54ffe79f9",
   "metadata": {},
   "source": [
    "We will occupy a few different types of _coding environments_.  What does that mean?\n",
    "\n",
    "In order to ...\n",
    "\n",
    "...."
   ]
  },
  {
   "cell_type": "markdown",
   "id": "db15ad52",
   "metadata": {},
   "source": [
    "![replit](assets/images/replit.png)"
   ]
  },
  {
   "cell_type": "markdown",
   "id": "c667e207",
   "metadata": {},
   "source": [
    "'Coding' is a misnomer and we'll see how that is in a bit.\n",
    "\n",
    "But before you start to code or program, you need a place to do it, i.e., you need a coding environment or 'runtime.'\n",
    "\n",
    "These days you have a number of options, the best being on your own machine, i.e., your own computer.  However, often it's better to be in\n"
   ]
  },
  {
   "cell_type": "markdown",
   "id": "d5ee806f",
   "metadata": {},
   "source": [
    "We will be using a few different coding environments, i.e., places where a Python interpreter can run our code.\n",
    "\n",
    "First, a sort of __standard__ Python coding environment, which we'll discuss in a lot more detail.\n",
    "\n",
    "Second, we will use `Jupyter Notebooks`, much like what appears on the next page.\n",
    "\n",
    "Third, eventually we will use your own machine, i.e., your own computer.  (We'll cover installation in the coming days.)\n"
   ]
  },
  {
   "cell_type": "code",
   "execution_count": 2,
   "id": "ab89e62d",
   "metadata": {},
   "outputs": [
    {
     "data": {
      "text/plain": [
       "5"
      ]
     },
     "execution_count": 2,
     "metadata": {},
     "output_type": "execute_result"
    }
   ],
   "source": [
    "5"
   ]
  }
 ],
 "metadata": {
  "kernelspec": {
   "display_name": "Python 3.10.5 ('jupyterbook-env')",
   "language": "python",
   "name": "python3"
  },
  "language_info": {
   "codemirror_mode": {
    "name": "ipython",
    "version": 3
   },
   "file_extension": ".py",
   "mimetype": "text/x-python",
   "name": "python",
   "nbconvert_exporter": "python",
   "pygments_lexer": "ipython3",
   "version": "3.10.5"
  },
  "vscode": {
   "interpreter": {
    "hash": "7abb8d9814038c526395fc1465b541e1649bf4442093ad31b35e8177e1cf2168"
   }
  }
 },
 "nbformat": 4,
 "nbformat_minor": 5
}
