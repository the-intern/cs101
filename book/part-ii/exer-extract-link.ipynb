{
 "cells": [
  {
   "cell_type": "markdown",
   "metadata": {},
   "source": [
    "# Extracting a Link"
   ]
  },
  {
   "cell_type": "markdown",
   "metadata": {},
   "source": [
    "Applying the same methodology for extracting a hextet, we can extract the url from an html anchor tag.  The steps can be enumerated:\n",
    "\n",
    "- use `find()` to identify the index location of the first tag on the page - using as an argument to `find()` the string `<a href=`\n",
    "- by the same method, find the quote `\"` mark's index position\n",
    "- then the second quote mark\n",
    "- extract the url from between those two quote marks.\n",
    "\n",
    "Using a snippet of a web page, try it by launching this notebook:\n",
    "\n",
    "[![Binder](https://mybinder.org/badge_logo.svg)](https://mybinder.org/v2/gh/caterinadiacomo/caterina-man-made-code/part-ii-strings?labpath=src%2Fpart-ii-strings%2F06-exer-extract-link.ipynb)"
   ]
  },
  {
   "cell_type": "code",
   "execution_count": 5,
   "metadata": {},
   "outputs": [
    {
     "data": {
      "text/plain": [
       "'https://brave.com'"
      ]
     },
     "execution_count": 5,
     "metadata": {},
     "output_type": "execute_result"
    }
   ],
   "source": [
    "# our data\n",
    "page = \"\"\"\n",
    "    <h1>Lorem ipsum dolor sit amet.</h1>\n",
    "    <ul>\n",
    "      <li>\n",
    "        <a href=\"https://brave.com\">Search</a>\n",
    "      </li>\n",
    "      <li><a href=\"https://docs.python.org/3\">Python docs</a></li>\n",
    "    </ul>\n",
    "\"\"\"\n",
    "\n",
    "# find the first import index value\n",
    "start_link = page.find(\"<a href=\")\n",
    "# we know that the first \" does not appear in the string we've used, so that index value is sufficient for finding the first quote mark\n",
    "start_quote = page.find('\"', start_link)\n",
    "# to find the final quote enclosing the url we increment the start_quote index value\n",
    "end_quote = page.find('\"', start_quote + 1)\n",
    "\n",
    "# now we use string slicing for extraction\n",
    "url = page[start_quote + 1: end_quote]"
   ]
  }
 ],
 "metadata": {
  "kernelspec": {
   "display_name": "Python 3.10.5 ('jupyterbook-env')",
   "language": "python",
   "name": "python3"
  },
  "language_info": {
   "codemirror_mode": {
    "name": "ipython",
    "version": 3
   },
   "file_extension": ".py",
   "mimetype": "text/x-python",
   "name": "python",
   "nbconvert_exporter": "python",
   "pygments_lexer": "ipython3",
   "version": "3.10.5"
  },
  "orig_nbformat": 4,
  "vscode": {
   "interpreter": {
    "hash": "7abb8d9814038c526395fc1465b541e1649bf4442093ad31b35e8177e1cf2168"
   }
  }
 },
 "nbformat": 4,
 "nbformat_minor": 2
}
