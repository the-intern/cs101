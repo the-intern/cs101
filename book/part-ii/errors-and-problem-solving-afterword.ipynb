{
 "cells": [
  {
   "cell_type": "markdown",
   "metadata": {},
   "source": [
    "# Errors, Mistakes, Misunderstandings, and Problem Solving\n",
    "\n",
    "The thesis of this site is that training in computational problem-solving is preeminent training for analysis and problem-solving writ large.  So it is worth your while to review common mistakes made when you and other programmers are confronted with the same problem."
   ]
  },
  {
   "cell_type": "code",
   "execution_count": null,
   "metadata": {},
   "outputs": [],
   "source": [
    "## Uncountable Beads\n",
    "\n"
   ]
  }
 ],
 "metadata": {
  "language_info": {
   "name": "python"
  },
  "orig_nbformat": 4
 },
 "nbformat": 4,
 "nbformat_minor": 2
}
