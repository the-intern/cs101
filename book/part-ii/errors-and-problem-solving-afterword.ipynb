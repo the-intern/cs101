{
 "cells": [
  {
   "cell_type": "markdown",
   "metadata": {},
   "source": [
    "# Errors, Mistakes, Misunderstandings, and Problem Solving\n",
    "\n",
    "The thesis of this site is that training in computational problem-solving is preeminent training for analysis and problem-solving writ large.  So it is worth your while to review common mistakes made when you and other programmers are confronted with the same problem."
   ]
  },
  {
   "cell_type": "code",
   "execution_count": null,
   "metadata": {},
   "outputs": [],
   "source": [
    "## Uncountable Beads\n",
    "\n"
   ]
  }
 ],
 "metadata": {
  "kernelspec": {
   "display_name": "Python 3.10.5 ('jupyterbook-env')",
   "language": "python",
   "name": "python3"
  },
  "language_info": {
   "name": "python",
   "version": "3.10.5"
  },
  "orig_nbformat": 4,
  "vscode": {
   "interpreter": {
    "hash": "7abb8d9814038c526395fc1465b541e1649bf4442093ad31b35e8177e1cf2168"
   }
  }
 },
 "nbformat": 4,
 "nbformat_minor": 2
}
