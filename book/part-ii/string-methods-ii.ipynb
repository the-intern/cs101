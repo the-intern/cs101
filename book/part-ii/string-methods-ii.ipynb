{
 "cells": [
  {
   "cell_type": "markdown",
   "metadata": {},
   "source": [
    "# String Procedures - Extracting a Sub-String\n",
    "\n",
    "Now let's apply what has gone before to our ultimate project - searching the web.\n",
    "\n"
   ]
  },
  {
   "cell_type": "markdown",
   "metadata": {},
   "source": [
    "## What ___Is___ a _Uniform Resource Locator_ Anyway?\n",
    "\n",
    "_Uniform Resource Locator (URL) is a text string that specifies where a resource (such as a web page, image, or video) can be found on the Internet._  {cite}`MDN`\n",
    "\n",
    "But the `url` is embedded in an `html` element called the `anchor` element with the syntax\n",
    "\n",
    "```html\n",
    "<a href=\"https://example.com\">Website</a>\n",
    "```\n",
    "\n",
    "and the following structure\n",
    "\n",
    "![a tag](images/anchor-tag.png)\n"
   ]
  },
  {
   "cell_type": "markdown",
   "metadata": {},
   "source": [
    "Our task will be to find the links on the page and use their url attributes.  \n",
    "\n",
    "But before we tackle that, let's come up with a method that combines the string-related tools we've covered so far and allows us to extract a substring such as the url embedded in a link."
   ]
  },
  {
   "cell_type": "markdown",
   "metadata": {},
   "source": [
    "## Practice Parsing an IPv6 Address\n",
    "\n",
    "### Background \n",
    "\n",
    "When you visit a web site, the url goes by a name --- e.g., `google.com`, `brave.com`, `youtube.com`.  However, underlying those names is a numbered address recognized by domain name servers around the world.  \n",
    "\n",
    "Currently, all computers accessing the internet, whether as client or server, have an IP address that is associated with the name address.  \n",
    "\n",
    "Thus, one of IP addresses associated with `google.com` is `142.250.191.132`.  In fact, you can enter that address in your browser instead of `google.com`, and you'll be directed to the latter.\n",
    "\n",
    "The current dominant protocol is IPv4 (internet protocol version 4) but the world is trying to move to IPv6 for a number of reasons, not least of which the IPv4 addressing system is exhausted.  Whereas IPv4, with a 32-bit space, provides 4,294,967,296 addresses, IPv6, weighing in at 128 bits, provides an address space of about 3.4 x 10$^{38}$ addresses.  \n",
    "\n",
    "### Colon-Hexa Representation in IPv6\n",
    "\n",
    "To be more precise, an IPv4 address is 4 8-bit numbers separated by `.` periods (e.g., 188`.`22`.`33`.`23), IPv6 addresses consist of 8 groups of 2-byte [hexadecimal](https://en.wikipedia.org/wiki/Hexadecimal) (i.e., base 16) numbers separated by `:` colons.  Each 2-byte set is called a `hextet`.\n",
    "\n",
    "IPv6 address examples might be:\n",
    "\n",
    "- `684D:1111:222:3333:4444:5555:6:77`\n",
    "- `2001:0db8:0001:0000:0000:0ab9:C0A8:0102`\n",
    "- `2345:0425:2CA1:0000:0000:0567:5673:23b5`\n",
    "\n",
    "We've said that each address has 8 groups of 2 bytes each using hexadecimal numbering (0 through F).  But you'll note that some of the example addresses only have one or two hexadigits.  That's because the address can be abbreviated when the hextet begins with one or more zeros.  Thus, a hextet of `004A` can be reduced to `4A`.  \n",
    "\n",
    "That's all by way of saying that when a protocol program (one used to route traffic to and from an IPv6 address location) parses the digits, it must use the colons `:` to _delimit_ or separate one hextet for another.\n",
    "\n",
    "A perfect job for Python's string `find()` method and string slicing.\n",
    "\n",
    "Using the `:` colons as delimiters, we find the first colon, then the second, then the third.  We know that between the second and third colons our desired hextet (or slice of the address) falls.  Having the second and third colon index positions, we simply slice between the two as shown below."
   ]
  },
  {
   "cell_type": "markdown",
   "metadata": {},
   "source": [
    "![extract hextet](images/extract_hextet.png)"
   ]
  },
  {
   "cell_type": "code",
   "execution_count": 3,
   "metadata": {},
   "outputs": [
    {
     "name": "stdout",
     "output_type": "stream",
     "text": [
      "2220 True\n"
     ]
    }
   ],
   "source": [
    "addr = \"684D:1111:2220:33A3:4F9E:2CA1:6:91\"\n",
    "first_idx = addr.find(':')\n",
    "second_idx = addr.find(\":\", first_idx + 1)\n",
    "third_idx = addr.find(\":\", second_idx + 1)\n",
    "extracted_hextet = addr[second_idx + 1 : third_idx]\n",
    "\n",
    "print(extracted_hextet, extracted_hextet == '2220')"
   ]
  },
  {
   "cell_type": "markdown",
   "metadata": {},
   "source": [
    "### Returning to the URL and Anchor Tag\n",
    "\n",
    "In order to extract the url, we use the same technique or method.  We find delimiters and find our way along the string so that we are positioned, using those delimiters, on one side and then the other of the url."
   ]
  }
 ],
 "metadata": {
  "kernelspec": {
   "display_name": "Python 3.10.5 ('jupyterbook-env')",
   "language": "python",
   "name": "python3"
  },
  "language_info": {
   "codemirror_mode": {
    "name": "ipython",
    "version": 3
   },
   "file_extension": ".py",
   "mimetype": "text/x-python",
   "name": "python",
   "nbconvert_exporter": "python",
   "pygments_lexer": "ipython3",
   "version": "3.10.5"
  },
  "orig_nbformat": 4,
  "vscode": {
   "interpreter": {
    "hash": "7abb8d9814038c526395fc1465b541e1649bf4442093ad31b35e8177e1cf2168"
   }
  }
 },
 "nbformat": 4,
 "nbformat_minor": 2
}
