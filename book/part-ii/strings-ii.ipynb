{
 "cells": [
  {
   "cell_type": "markdown",
   "metadata": {},
   "source": [
    "# Strings - Continued\n",
    "\n",
    "## Definition\n",
    "\n",
    "A string is a sequence (ordered) of characters surrounded by either single or double quotes.\n",
    "\n",
    "```python\n",
    "'I am a string!'\n",
    "# or\n",
    "\"I am a string!\"\n",
    "\n",
    "```\n",
    "\n",
    "Just remember, however, whatever kind of quotation mark **starts** the string must also **end** the string.\n",
    "\n",
    "When you use which is not always important, but sometimes it determines what you might do within it.\n",
    "\n",
    "For example, double quotes `\"\"` allows you to include apostrophes (e.g., for contractions or possessives) inside of quotes as a character in the string.\n",
    "\n",
    "```python\n",
    "\"I'm glad to know ya.\"\n",
    "\n",
    "```\n",
    "\n",
    "In the case of that contraction above, were you to have started the string with single quotes, you would have had to `escape` the apostrophe:\n"
   ]
  },
  {
   "cell_type": "code",
   "execution_count": null,
   "metadata": {},
   "outputs": [],
   "source": [
    "mystring = 'I\\'m glad to know ya.'\n",
    "print(mystring)"
   ]
  },
  {
   "cell_type": "markdown",
   "metadata": {},
   "source": [
    "The backslash `\\` just before the apostrophe 'escapes' it, i.e., it is read literally and not interpreted as the end of the string."
   ]
  },
  {
   "cell_type": "markdown",
   "metadata": {},
   "source": [
    "## Variables Are Not Strings\n",
    "\n",
    "Sometimes you might think you are creating a string, but you forget the quotation marks.  Hence, if you were to run:\n",
    "\n",
    "```python\n",
    "hello\n",
    "```\n",
    "\n",
    "you'll get an error --- `NameError: name 'Hello' is not defined`\n",
    "\n",
    "The `NameError` typically means you used a variable-like term, but you've used it before you defined it.\n"
   ]
  },
  {
   "cell_type": "markdown",
   "metadata": {},
   "source": [
    "Consider which of the following are valid strings in Python and try them out in a code cell:\n",
    "\n",
    "a. `\"Burger\" `\n",
    "\n",
    "b. `'Burger\"` \n",
    "\n",
    "c. `\"Burger `\n",
    "\n",
    "d. `Burger`\n",
    "\n",
    "e. `'\"Burger'`\n"
   ]
  },
  {
   "cell_type": "markdown",
   "metadata": {},
   "source": [
    "## Using Operators on Strings"
   ]
  },
  {
   "cell_type": "markdown",
   "metadata": {},
   "source": [
    "We can also use the plus operator `+` on strings, but with a different opoeration than on numbers. \n",
    "\n",
    "With string, plus `+` means `concatenation`, i.e., chaining together strings.\n",
    "\n",
    "`<some string> + <some string>` outputs the concatenation of the two strings \n",
    "\n",
    "Try concatenating the strings below:"
   ]
  },
  {
   "cell_type": "code",
   "execution_count": 2,
   "metadata": {},
   "outputs": [],
   "source": [
    "name = \"Fred\"\n",
    "hello = \"Hello\""
   ]
  },
  {
   "cell_type": "markdown",
   "metadata": {},
   "source": [
    "You can create a space between the strings by adding a space to one of the strings. \n",
    "\n",
    "You can also continue to add strings as many times as you need.\n",
    "\n",
    "```python\n",
    ">>> name = 'Betty'\n",
    ">>> 'Hello ' + name + '!' + '!' + '!' \n",
    "Hello Betty!!!\n"
   ]
  },
  {
   "cell_type": "markdown",
   "metadata": {},
   "source": [
    "### Type Matters When Using `+` Operator"
   ]
  },
  {
   "cell_type": "markdown",
   "metadata": {},
   "source": [
    "You cannot concatenate a string with a number type:\n",
    "\n",
    "```python\n",
    ">>> \"Hello \" + 2023\n",
    "...\n",
    "TypeError: can only concatenate str (not \"int\") to str\n",
    "```"
   ]
  },
  {
   "cell_type": "markdown",
   "metadata": {},
   "source": [
    "Thus, you need to `convert` the integer to a string:\n",
    "\n",
    "```python\n",
    ">>> \"Hello \" + str(2023)\n",
    "'Hello 2023'\n",
    "\n",
    "```"
   ]
  },
  {
   "cell_type": "markdown",
   "metadata": {},
   "source": [
    "### But You Can Multiply Strings with `*` and Integers"
   ]
  },
  {
   "cell_type": "markdown",
   "metadata": {},
   "source": [
    "```python\n",
    ">>> \"Hello\" * 3\n",
    "'HelloHelloHello'\n",
    "```"
   ]
  },
  {
   "cell_type": "markdown",
   "metadata": {},
   "source": [
    "## Indexing Strings"
   ]
  },
  {
   "cell_type": "markdown",
   "metadata": {},
   "source": [
    "Because strings are __sequences__, they are ordered and that means you can retrieve them by indexes and slices.\n",
    "\n",
    "As noted earlier, when you want to select sub-sequences use the square brackets `[]` to specify which part of the string you want to select. \n",
    "\n",
    "```<string>[<expression>]```\n",
    "\n",
    "remembering that sequences are indexed beginning at zero:"
   ]
  },
  {
   "cell_type": "code",
   "execution_count": 3,
   "metadata": {},
   "outputs": [
    {
     "name": "stdout",
     "output_type": "stream",
     "text": [
      "T\n"
     ]
    }
   ],
   "source": [
    "sentence = \"The quick brown fox jumps over the lazy dog\"\n",
    "\n",
    "print(sentence[0]) # prints 'T'"
   ]
  },
  {
   "cell_type": "markdown",
   "metadata": {},
   "source": [
    "Once again here is the index mapping:\n",
    "\n",
    "![index map](../images/part-ii/string-index.png)"
   ]
  },
  {
   "cell_type": "markdown",
   "metadata": {},
   "source": [
    "Beware of the index range.  If you choose a index value that doesn't exist, Python will crash you program:\n",
    "\n",
    "```python\n",
    ">>> name = 'Yuri'\n",
    ">>> print name[4]\n",
    "IndexError: string index out of range\n",
    "```"
   ]
  },
  {
   "cell_type": "markdown",
   "metadata": {},
   "source": [
    "### Quiz Yourself\n",
    "\n",
    "Given the variable, \n",
    "s = '<anystring>'\n",
    "which of these pairs are two things with the exact same value?\n",
    "\n",
    "[ ] a. s[3] <-> s[1+1+1]\n",
    "\n",
    "[ ] b. s[0] <-> (s+s)[0]\n",
    "\n",
    "[ ] c. s[0] + s[1] <-> s[0+1]\n",
    "\n",
    "[ ] d. s[1] <-> (s + 'aei') [1]\n",
    "\n",
    "[ ] e. s[-1] <-> (s + s)[-1]"
   ]
  },
  {
   "cell_type": "markdown",
   "metadata": {},
   "source": [
    "### Selecting Sub-Sequences from Strings "
   ]
  },
  {
   "cell_type": "markdown",
   "metadata": {},
   "source": [
    "```\n",
    "<string>[<expression>] --> a one-character string\n",
    "\n",
    "<string>[<start expression>:<stop expression>] --> a string that is a sub-sequence of the characters in the string, from the start position up to the character before the stop position. If the start expression is missing, the sub-sequence starts from the beginning of the string; if the stop expression is missing, the sub-sequence goes to the end of the string.\n",
    "```"
   ]
  },
  {
   "cell_type": "markdown",
   "metadata": {},
   "source": [
    "Examples\n",
    "\n",
    "```python\n",
    "\n",
    ">>> word = 'assume'\n",
    ">>> print (word[3])\n",
    "u\n",
    ">>> print (word[4:6])\n",
    "me\n",
    ">>> print (word[4:])\n",
    "me\n",
    ">>> print (word[:2])\n",
    "as\n",
    ">>> print (word[:])\n",
    "assume\n",
    "```\n",
    "\n",
    "Try out the sub-sequnces above."
   ]
  },
  {
   "cell_type": "code",
   "execution_count": 4,
   "metadata": {},
   "outputs": [],
   "source": [
    "word = 'assume'"
   ]
  },
  {
   "cell_type": "code",
   "execution_count": null,
   "metadata": {},
   "outputs": [],
   "source": []
  }
 ],
 "metadata": {
  "kernelspec": {
   "display_name": "Python 3.8.13 64-bit ('anaconda3')",
   "language": "python",
   "name": "python3"
  },
  "language_info": {
   "codemirror_mode": {
    "name": "ipython",
    "version": 3
   },
   "file_extension": ".py",
   "mimetype": "text/x-python",
   "name": "python",
   "nbconvert_exporter": "python",
   "pygments_lexer": "ipython3",
   "version": "3.8.13"
  },
  "orig_nbformat": 4,
  "vscode": {
   "interpreter": {
    "hash": "910010b9128fec0bda95a110deaa2f7baca3ef79608cce04836aad2a922a4fb5"
   }
  }
 },
 "nbformat": 4,
 "nbformat_minor": 2
}
