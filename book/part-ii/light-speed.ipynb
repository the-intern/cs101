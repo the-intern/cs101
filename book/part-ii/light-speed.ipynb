{
 "cells": [
  {
   "cell_type": "markdown",
   "metadata": {},
   "source": [
    "# Light Speed"
   ]
  },
  {
   "cell_type": "markdown",
   "metadata": {},
   "source": [
    "No perfect way to start in Python exists.  But beginning with its operations on numbers is perhaps as close as it gets. \n",
    "\n",
    "Take a look at the operators Python uses for numbers, and you'll find they are almost identical to those you already know in math.  Some variations exist because you can only do so much on a regular keyboard and a regular keyboard is the origin of many of the tokens used in programming."
   ]
  },
  {
   "cell_type": "markdown",
   "metadata": {},
   "source": [
    "## Math Operators in Python\n",
    "\n",
    "|Operator|Meaning|\n",
    "|--------|-------|\n",
    "| `+`    | add   |\n",
    "| `-`    | subtract   |\n",
    "| `*`    | multiply   |\n",
    "| `/`    | divide   |\n",
    "| `//`    | floor division   |\n",
    "| `%`    | modulo   |\n",
    "| `**`    | exponentiation   |\n"
   ]
  },
  {
   "cell_type": "code",
   "execution_count": null,
   "metadata": {},
   "outputs": [],
   "source": []
  },
  {
   "cell_type": "markdown",
   "metadata": {},
   "source": [
    "## Operator Precedence in Mathematical Expressions\n",
    "\n",
    "Orders of operation in mathematical expressions follow the pattern already determined in math itself, i.e., you can use the acronym _PEMDAS_; and the order is \n",
    "\n",
    "1st   Parentheses\n",
    "\n",
    "2nd   Exponents\n",
    "\n",
    "3rd   Multiplication/Division\n",
    "\n",
    "4th   Addition/Subtraction\n",
    "\n",
    "That is, if you have several integers, combined with more than one type of operator, you follow the order of operation you find in math.  Hence:"
   ]
  },
  {
   "cell_type": "code",
   "execution_count": 10,
   "metadata": {},
   "outputs": [
    {
     "data": {
      "text/plain": [
       "True"
      ]
     },
     "execution_count": 10,
     "metadata": {},
     "output_type": "execute_result"
    }
   ],
   "source": [
    "10 * 2 - 3  == 17"
   ]
  },
  {
   "cell_type": "markdown",
   "metadata": {},
   "source": [
    "If you run the cell above, the result is `True`, i.e., Python will first multiply the `10` by `2` and then subtract `3`.  The `double equals` sign merely asks for a `boolean` (`True` or `False`) response.\n",
    "\n",
    "Or, take "
   ]
  },
  {
   "cell_type": "code",
   "execution_count": 11,
   "metadata": {},
   "outputs": [
    {
     "data": {
      "text/plain": [
       "48"
      ]
     },
     "execution_count": 11,
     "metadata": {},
     "output_type": "execute_result"
    }
   ],
   "source": [
    "3 * 4 ** 2"
   ]
  },
  {
   "cell_type": "markdown",
   "metadata": {},
   "source": [
    "Above the 4 is first squared before that value is multiplied by 3.\n",
    "\n",
    "But even if you don't remember the _order of precedence_, you can simply use parentheses as you might do in math:"
   ]
  },
  {
   "cell_type": "code",
   "execution_count": 12,
   "metadata": {},
   "outputs": [
    {
     "data": {
      "text/plain": [
       "True"
      ]
     },
     "execution_count": 12,
     "metadata": {},
     "output_type": "execute_result"
    }
   ],
   "source": [
    "(10 * 2) - 3 == 17"
   ]
  },
  {
   "cell_type": "markdown",
   "metadata": {},
   "source": [
    "## Speed of Light and a Precursor to Variables\n",
    "\n",
    "Let's say you want to to determine how far light travels in centimeters after one nanosecond based on the following values:\n",
    "\n",
    "- the speed of light is 299792458 meters per second\n",
    "- one meter is 100 centimeters\n",
    "- one nanosecond is one billionth (1/1000000000) of a second\n",
    "\n",
    "Computers today execute billions of steps (or `instructions`) every second.  The computer processor used to create this page has a number of cores, each of which operates at 3.6 GHz. A GHz, or `gigahertz`, is a billion cycles per second.  That means, one core on this computer processes 3,600,000,000 cycles per second. Each instruction is a small step among the many that constitute the entire process that must run for a program.  \n",
    "\n",
    "By running the code below, you can compute how far light travels in centimeters while this computer completes one cycle:"
   ]
  },
  {
   "cell_type": "code",
   "execution_count": 13,
   "metadata": {},
   "outputs": [
    {
     "data": {
      "text/plain": [
       "8.327568277777777"
      ]
     },
     "execution_count": 13,
     "metadata": {},
     "output_type": "execute_result"
    }
   ],
   "source": [
    "299792458 * 100 * 1/1000000000 * 1/3.6 "
   ]
  },
  {
   "cell_type": "code",
   "execution_count": null,
   "metadata": {},
   "outputs": [],
   "source": []
  },
  {
   "cell_type": "markdown",
   "metadata": {},
   "source": [
    "That is, maybe half the length of a dollar bill.\n",
    "\n",
    "A processor has to be small to execute quickly the programs it is fed.  In fact, were computer processors any larger than the size of a dollar bill, then you couldn't even send light from one end of the processor to the other before finishing the execution of a single step --- one step of perhaps millions --- in a computer program.  And speed matters."
   ]
  },
  {
   "cell_type": "markdown",
   "metadata": {},
   "source": [
    "## Variables\n",
    "\n",
    "Which, in a way, brings us to one of the other aspects of time limitations, that which is inherent in the human condition.  \n",
    "\n",
    "Look at that expression above giving us the distance light travels during a cycle.  \n",
    "\n",
    "The programmer cannot be expected to keep track of inputs such these or simply type them in anticipation of some problem.  He, being human, does not have the time or the memory space.  Moreover, he cannot anticipate all the uses to which it might be put.  Hence, `variables`.  \n",
    "\n"
   ]
  },
  {
   "cell_type": "markdown",
   "metadata": {},
   "source": [
    "### Variable Naming Requirements and Conventions\n",
    "\n",
    "Variables are names given to expressions or values.  Python has strict rules for variables; not many, but strict:\n",
    "- they can contain any letter, integer, or the underscore `_`\n",
    "- these can come in any sequence with one caveat: variables _cannot_ begin with an integer\n",
    "- they are case sensitive\n",
    "- they cannot contain a space\n",
    "- they should never, ever be the same as a `keyword` or `built-in type` in Python (more on that later)\n",
    "\n",
    "By convention, longer variable names are in `snake_case`.\n",
    "\n",
    "In the cell below values (on the right) are `assigned` to variables (on the left) using memorable names using the syntax:\n",
    "\n",
    "`some_good_name = someValue`\n",
    "\n",
    "Let's say we want to determine the length of a `nanostick` --- the distance light travels in a nanosecond.  We might do so this way placing values in variable names:"
   ]
  },
  {
   "cell_type": "code",
   "execution_count": 14,
   "metadata": {},
   "outputs": [
    {
     "name": "stdout",
     "output_type": "stream",
     "text": [
      "Nanostack = 29.979245800000005 cm\n"
     ]
    }
   ],
   "source": [
    "# speed of light in meters per second\n",
    "speed_of_light = 299792458 \n",
    "centimeters_per_meter = 100\n",
    "# a convenience variable\n",
    "billionth = 1/1000000000\n",
    "\n",
    "# a 'nanostick' --- or the distance light travels in a nanosecond\n",
    "nanostick = speed_of_light * billionth * centimeters_per_meter\n",
    "print(f\"Nanostack = {nanostick} cm\")\n"
   ]
  },
  {
   "cell_type": "markdown",
   "metadata": {},
   "source": [
    "Let's go back to the cell above in which we just used literal numbers to calculate the how far light travels in centimeters while our 3.6 GHz processor completes one cycle: `299792458 * 100 * 1/1000000000 * 1/3.6`\n",
    "\n",
    "It makes far more sense to put these values in variables.  Thus, and relying on the cell immediately above, we can calculate it thus:\n"
   ]
  },
  {
   "cell_type": "code",
   "execution_count": 15,
   "metadata": {},
   "outputs": [
    {
     "name": "stdout",
     "output_type": "stream",
     "text": [
      "Light travels 8.327568277777777 centimeters per instruction\n"
     ]
    }
   ],
   "source": [
    "# we need a variable for GHz per second\n",
    "ghz = 3.6 \n",
    "\n",
    "light_distance_per_cycle = speed_of_light * centimeters_per_meter * billionth / ghz \n",
    "\n",
    "print(f'Light travels {light_distance_per_cycle} centimeters per instruction')"
   ]
  }
 ],
 "metadata": {
  "kernelspec": {
   "display_name": "Python 3.10.5 ('jupyterbook-env')",
   "language": "python",
   "name": "python3"
  },
  "language_info": {
   "codemirror_mode": {
    "name": "ipython",
    "version": 3
   },
   "file_extension": ".py",
   "mimetype": "text/x-python",
   "name": "python",
   "nbconvert_exporter": "python",
   "pygments_lexer": "ipython3",
   "version": "3.10.5"
  },
  "orig_nbformat": 4,
  "vscode": {
   "interpreter": {
    "hash": "7abb8d9814038c526395fc1465b541e1649bf4442093ad31b35e8177e1cf2168"
   }
  }
 },
 "nbformat": 4,
 "nbformat_minor": 2
}
