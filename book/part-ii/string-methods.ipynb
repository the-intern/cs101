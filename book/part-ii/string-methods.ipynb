{
 "cells": [
  {
   "cell_type": "markdown",
   "metadata": {},
   "source": [
    "# String Methods"
   ]
  },
  {
   "cell_type": "markdown",
   "metadata": {},
   "source": [
    "Strings, as is true of all objects in Python, come with `methods` or __procedures__ of various kinds that operate on the string itself.  \n",
    "\n",
    "What does that mean?  Let's use an example.\n",
    "\n",
    "\n",
    "\n"
   ]
  },
  {
   "cell_type": "markdown",
   "metadata": {},
   "source": [
    "## Finding Strings in Strings\n",
    "\n",
    "Before we go too far, it's important to understand what procedures or functions or methods do.  `Procedure` is the more generic term and let's use that for now.\n",
    "\n",
    "You've seen at least two procedures:\n",
    "\n",
    "- `print()`\n",
    "\n",
    "- `str()`\n",
    "\n",
    "The `print()` procedure does just that.  However, `str()` takes in an integer and `returns` a string.\n",
    "\n",
    "Now think about that. The `print()` procedure returns nothing; it simply carries out the procedure of printing to the console and stops.  \n",
    "\n",
    "But `str()` __returns__ something.  \n",
    "\n",
    "That means you can __assign__ a variable to the return value.  For example:\n",
    "\n",
    "```python\n",
    ">>> num = 200\n",
    "# store the string '200' in variable num_converted\n",
    ">>> num_converted = str(num)\n",
    ">>> print(num_converted)\n",
    "'200'\n",
    "# type of num_converted\n",
    ">>> print(type(num_converted))\n",
    "<class 'str'>\n",
    "\n",
    "```\n",
    "\n",
    "\n",
    "\n",
    "The `find()` method is a built-in procedure, or method, provided by Python, and __operates on__ strings.  That is, it is a string method.  Moreover, and importantly, it __returns__ a value.\n",
    "\n",
    "The return value or output of `find()` is the position of the string where the specified sub-string is found.\n",
    "\n",
    "```<search string>.find(<target string>)```"
   ]
  }
 ],
 "metadata": {
  "language_info": {
   "name": "python"
  },
  "orig_nbformat": 4
 },
 "nbformat": 4,
 "nbformat_minor": 2
}
