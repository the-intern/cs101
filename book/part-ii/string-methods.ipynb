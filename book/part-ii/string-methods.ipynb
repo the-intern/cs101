{
 "cells": [
  {
   "cell_type": "markdown",
   "metadata": {},
   "source": [
    "# Procedures: Built-in Functions and String Methods"
   ]
  },
  {
   "cell_type": "markdown",
   "metadata": {},
   "source": [
    "Strings, as is true of all objects in Python, come with `methods` or __procedures__ of various kinds that operate on the string itself.  \n",
    "\n",
    "## Procedures\n",
    "\n",
    "Before we go too far, it's important to understand what procedures do.  \n",
    "\n",
    "```{seealso}\n",
    "\n",
    "> A procedure is a description of a process. A simple process can be described\n",
    "just by listing the steps. The list of steps is the procedure; the act of following\n",
    "them is the process. A procedure that can be followed without any thought is called a mechanical procedure. \n",
    "\n",
    "{cite}`Dave_Evans`\n",
    "\n",
    "```\n",
    "\n",
    "Methods and functions are two types of procedures.  The distinction is not important right now --- for our immediate intents and purposes, they operate the same way.  ___Procedure___ is the more generic term and let's use that for now.\n",
    "\n",
    "### Built In Procedures in Python\n",
    "\n",
    "In the next part, we'll build our own procedures.  First, let's note just a small sample of procedures Python itself supplies.\n",
    "\n",
    "You've seen at least two Python procedures:\n",
    "\n",
    "- `print()`\n",
    "\n",
    "- `str()`\n",
    "\n",
    "The `print()` procedure does just that.  However, `str()` takes in an integer and `returns` a string.\n",
    "\n",
    "Now think about that. \n",
    "\n",
    "The `print()` procedure returns nothing (or `None` being the keyword in Python); it simply carries out the procedure of printing to the console and stops.  \n",
    "\n",
    "But `str()` ___returns___ something, i.e., a value that can be used immediately or later on.\n",
    "\n",
    "___That means you can <u>assign</u> a variable to the return value.___  \n",
    "\n",
    "For example:"
   ]
  },
  {
   "cell_type": "code",
   "execution_count": 6,
   "metadata": {},
   "outputs": [
    {
     "name": "stdout",
     "output_type": "stream",
     "text": [
      "Value of num_converted is 200\n",
      "But num_coverted is not an integer; rather it is of type <class 'str'>\n"
     ]
    }
   ],
   "source": [
    "num = 200\n",
    "# store the string '200' in variable num_converted\n",
    "num_converted = str(num)\n",
    "# value of variable 'num_converted'\n",
    "print(f'Value of num_converted is {num_converted}')\n",
    "# type of num_converted\n",
    "print(f'But num_coverted is not an integer; rather it is of type {type(num_converted)}')"
   ]
  },
  {
   "cell_type": "markdown",
   "metadata": {},
   "source": [
    "### `find ()` is a ___Method___ All Strings Carry\n",
    "\n",
    "The `find()` method is a procedure with which all strings come equipped.  \n",
    "\n",
    "Importantly, `find()` ___returns___ a value.\n",
    "\n",
    "`find()` is used to find the starting index value of a sub-string within the string itself.  The return value or output of `find()` is the position of the string where the specified sub-string is found, i.e., ___the return value is an integer___.\n",
    "\n",
    "For example, if you have the string:\n",
    "\n",
    "```python\n",
    "common_sense = \"These are the times that try men's souls.\"\n",
    "```\n",
    "\n",
    "and you want to find the ___first__ appeareance of the of the substring `times`, you can retrieve the index value of that substring's start using `find()` this way:\n"
   ]
  },
  {
   "cell_type": "code",
   "execution_count": 7,
   "metadata": {},
   "outputs": [
    {
     "name": "stdout",
     "output_type": "stream",
     "text": [
      "14\n"
     ]
    }
   ],
   "source": [
    "common_sense = \"These are the times that try men's souls.\"\n",
    "\n",
    "the_times = common_sense.find('times')\n",
    "\n",
    "print(the_times)"
   ]
  },
  {
   "cell_type": "markdown",
   "metadata": {},
   "source": [
    "`common_sense.find('times')` returns the value, an integer value, 14.  \n",
    "\n",
    "That means that the substring `times` ___begins___ at index 14 in the string `common_sense`.\n",
    "\n"
   ]
  },
  {
   "cell_type": "markdown",
   "metadata": {},
   "source": [
    "Another example, from the world of DNA sequencing.  \n",
    "\n",
    "DNA sequencing determines the nucleic acid sequence or order of nucleotides in DNA. In mammalian DNA, the four nucleotide bases are adenine, guanine, cytosine, and thymine --- or A, G, C, T by conventional abbreviation.\n",
    "\n",
    "Thus, were you to have a DNA sequence which reads, at the start\n",
    "\n",
    "```python\n",
    "dna = 'ATGCTCGAAT ...'\n",
    "```\n",
    "\n",
    "and you want to find where in the sequence the sub-sequence `GCT` is found.\n",
    "\n",
    "```python\n",
    "index_of_gtc = dna.find('GCT')\n",
    "```\n",
    "would return, in our example string, `2`:"
   ]
  },
  {
   "cell_type": "code",
   "execution_count": 8,
   "metadata": {},
   "outputs": [
    {
     "name": "stdout",
     "output_type": "stream",
     "text": [
      "2\n"
     ]
    }
   ],
   "source": [
    "dna = 'ATGCTCGAAT ...'\n",
    "index_of_gtc = dna.find('GCT')\n",
    "\n",
    "print(index_of_gtc)"
   ]
  },
  {
   "cell_type": "markdown",
   "metadata": {},
   "source": [
    "You can visualize how `find()` operates below.  It begins at index value `0` and iterates over the sequence.  When it finds `G` it records it.  If `C` is the next value, it keeps track of the indexes `[2, 3]`.  (Were `G` followed immediately by any other character/nucleotide, the list begun would be cleared out and begin the search on index value 4).  \n",
    "\n",
    "But once `find()` uncovers (`GCT`) in order, it returns the index value of the start of that sub-sequence `[2,3,4]`.  "
   ]
  },
  {
   "cell_type": "markdown",
   "metadata": {},
   "source": [
    "![DNA](images/dna-seq-with-find.gif \"dna\")\n"
   ]
  },
  {
   "cell_type": "markdown",
   "metadata": {},
   "source": [
    "<mark>It is essential that you try these things out for yourself.  You cannot --- absolute cannot --- learn to code without getting your hands dirty.</mark>\n",
    "\n",
    "> _What the hand does, the mind remembers._"
   ]
  },
  {
   "cell_type": "markdown",
   "metadata": {},
   "source": []
  }
 ],
 "metadata": {
  "kernelspec": {
   "display_name": "Python 3.10.5 ('jupyterbook-env')",
   "language": "python",
   "name": "python3"
  },
  "language_info": {
   "codemirror_mode": {
    "name": "ipython",
    "version": 3
   },
   "file_extension": ".py",
   "mimetype": "text/x-python",
   "name": "python",
   "nbconvert_exporter": "python",
   "pygments_lexer": "ipython3",
   "version": "3.10.5"
  },
  "orig_nbformat": 4,
  "vscode": {
   "interpreter": {
    "hash": "7abb8d9814038c526395fc1465b541e1649bf4442093ad31b35e8177e1cf2168"
   }
  }
 },
 "nbformat": 4,
 "nbformat_minor": 2
}
