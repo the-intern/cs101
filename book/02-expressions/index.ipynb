{
 "cells": [
  {
   "cell_type": "markdown",
   "id": "57ab819e-5204-4a65-bba3-e6233326baf8",
   "metadata": {},
   "source": [
    "# Simple Expressions in Python"
   ]
  },
  {
   "cell_type": "markdown",
   "id": "1f6abe65-7d7f-4747-a4e6-a3bdd4487741",
   "metadata": {},
   "source": [
    "Imagine something a bit more complicated:\n",
    "\n",
    "$$\n",
    "z=\\sqrt{x^2+y^2}\n",
    "$$"
   ]
  },
  {
   "cell_type": "code",
   "execution_count": null,
   "id": "77e0a152-60b6-41c6-b0bf-5e9dbe7bafc1",
   "metadata": {},
   "outputs": [],
   "source": []
  }
 ],
 "metadata": {
  "kernelspec": {
   "display_name": "Python 3 (ipykernel)",
   "language": "python",
   "name": "python3"
  },
  "language_info": {
   "codemirror_mode": {
    "name": "ipython",
    "version": 3
   },
   "file_extension": ".py",
   "mimetype": "text/x-python",
   "name": "python",
   "nbconvert_exporter": "python",
   "pygments_lexer": "ipython3",
   "version": "3.8.13"
  }
 },
 "nbformat": 4,
 "nbformat_minor": 5
}
