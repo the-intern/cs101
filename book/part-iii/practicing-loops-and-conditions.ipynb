{
 "cells": [
  {
   "cell_type": "markdown",
   "id": "1cb352b5-ffbd-4a98-a725-de2c2f291073",
   "metadata": {},
   "source": [
    "# Practicing Loops and Conditions"
   ]
  },
  {
   "cell_type": "markdown",
   "id": "f961b826-2e54-4d71-a39c-ed5ed8209406",
   "metadata": {},
   "source": [
    "## 1.  Write a `while` loop such that you print out the first 10 natural numbers:\n",
    "\n",
    "1\n",
    "\n",
    "2\n",
    "\n",
    "3\n",
    "\n",
    "4\n",
    "\n",
    "5\n",
    "\n",
    "6\n",
    "\n",
    "7\n",
    "\n",
    "8\n",
    "\n",
    "9\n",
    "\n",
    "10"
   ]
  },
  {
   "cell_type": "code",
   "execution_count": null,
   "id": "df9c328e-1431-49d9-a8a5-24de48bf46ba",
   "metadata": {},
   "outputs": [],
   "source": [
    "# variable declarations?\n",
    "\n",
    "# while \n",
    "\n",
    "\n"
   ]
  },
  {
   "cell_type": "markdown",
   "id": "3e69121a-6ce9-49e0-bda7-d699d8d101c4",
   "metadata": {},
   "source": [
    "## 2. Write a `while` loop that prints the following even numbers:\n",
    "\n",
    "\n",
    "2\n",
    "\n",
    "4\n",
    "\n",
    "6\n",
    "\n",
    "8\n",
    "\n",
    "10\n",
    "\n",
    "12\n",
    "\n",
    "14\n",
    "\n",
    "16\n",
    "\n",
    "18\n",
    "\n",
    "20"
   ]
  },
  {
   "cell_type": "code",
   "execution_count": null,
   "id": "52bf5ba5-0a26-4e88-add3-ce0ba9c9621d",
   "metadata": {},
   "outputs": [],
   "source": [
    "# variables?\n",
    "\n",
    "# while ..."
   ]
  },
  {
   "cell_type": "markdown",
   "id": "d4de8f87-0003-403f-9fc9-379ecafa7c8d",
   "metadata": {},
   "source": [
    "## 3. Write a `while` loop that processes all the lower-case letters and prints out a letter if it is a vowel\n",
    "\n"
   ]
  },
  {
   "cell_type": "markdown",
   "id": "66ee0ba9-ab26-4b68-a5ec-6fa2da62297f",
   "metadata": {},
   "source": [
    "### Preliminaries to writing the loop\n",
    "\n",
    "A handy operator in Python is `in` which returns a `boolean` answering whether some item is present in an interable such as a string.  For example:"
   ]
  },
  {
   "cell_type": "code",
   "execution_count": 3,
   "id": "f0be4871-6f1d-47de-a395-0c86dc6d2e4e",
   "metadata": {},
   "outputs": [
    {
     "name": "stdout",
     "output_type": "stream",
     "text": [
      "False\n",
      "True\n"
     ]
    }
   ],
   "source": [
    "some_characters = 'abcdefg'\n",
    "# use 'in' to see if an 'e' is present\n",
    "\n",
    "print('x' in some_characters) # will return and print 'False'\n",
    "print('e' in some_characters) # will return and print 'True'"
   ]
  },
  {
   "cell_type": "markdown",
   "id": "f20c7548-7218-415e-883f-52e6044ab53d",
   "metadata": {},
   "source": [
    "Use `in` to write the loop.\n",
    "\n",
    "Additional hints:\n",
    "\n",
    "1.  use an `if` statement in the loop\n",
    "\n",
    "2.  The `if` statement should check if a character is `in` the string `vowels`.\n",
    "\n",
    "3.  If it is, use a print statement to output it.\n",
    "\n",
    "Note:  Make sure to __remove__ the `pass` keyword"
   ]
  },
  {
   "cell_type": "code",
   "execution_count": null,
   "id": "a68bfafe-8178-48e7-bb17-087405cbdbb9",
   "metadata": {},
   "outputs": [],
   "source": [
    "letters = 'abcdefghijklmnopqrstuvwxyz'\n",
    "vowels = 'aeiou'\n",
    "\n",
    "while True:\n",
    "    pass # remove this\n",
    "\n",
    "\n"
   ]
  },
  {
   "cell_type": "markdown",
   "id": "5d323f16-944b-4099-a9ff-77bfc1d25348",
   "metadata": {},
   "source": [
    "## 4. Write a `while` loop that generates a random integer from 1 to 9 and only breaks out if the integer is equal to 5 \n",
    "\n"
   ]
  },
  {
   "cell_type": "code",
   "execution_count": null,
   "id": "186db78d-c322-4957-993f-744360ea9ea3",
   "metadata": {},
   "outputs": [],
   "source": [
    "from random import randint\n",
    "\n",
    "while True:\n",
    "    pass "
   ]
  },
  {
   "cell_type": "code",
   "execution_count": null,
   "id": "2dbd4b53-a1ac-416a-99db-f3ac297ca40b",
   "metadata": {},
   "outputs": [],
   "source": []
  }
 ],
 "metadata": {
  "kernelspec": {
   "display_name": "Python 3 (ipykernel)",
   "language": "python",
   "name": "python3"
  },
  "language_info": {
   "codemirror_mode": {
    "name": "ipython",
    "version": 3
   },
   "file_extension": ".py",
   "mimetype": "text/x-python",
   "name": "python",
   "nbconvert_exporter": "python",
   "pygments_lexer": "ipython3",
   "version": "3.10.5"
  }
 },
 "nbformat": 4,
 "nbformat_minor": 5
}
