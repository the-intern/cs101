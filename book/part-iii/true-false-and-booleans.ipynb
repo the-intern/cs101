{
 "cells": [
  {
   "cell_type": "markdown",
   "id": "3ab05bed-8e20-46e8-9d20-907d6b490bb6",
   "metadata": {},
   "source": [
    "# Control Through True and False"
   ]
  },
  {
   "cell_type": "markdown",
   "id": "69347160-63f9-4165-82a9-b1afd1be7a62",
   "metadata": {},
   "source": [
    "One of the five primitive data types in Python are `booleans` --- i.e., expressions that resolve to either `True` or `False` --- and as a primitive data type join:\n",
    "\n",
    "1.   `int` (integer)\n",
    "2.   `float` (float)\n",
    "4.   `str` (string)\n",
    "5.   `None`\n",
    "\n",
    "Mentioned at the start of this part is the need for ___control___ over programs, and booleans are fundamental to that control being, as they are, required for \n",
    "\n",
    "- `while` loops, and \n",
    "- `conditional` statements (`if`, `elif`, and `else`)\n",
    "\n",
    "That comprises the ability to repeat operations and the ability to determine whether something is or is not something else and they are fairly simple in both syntax and operation. "
   ]
  },
  {
   "cell_type": "markdown",
   "id": "62ef11e5",
   "metadata": {},
   "source": [
    "## Boolean Basics\n",
    "\n",
    "Boolean expressions resolve to either `True` or `False` and often resolve based on comparison operators (cf. logical operators _below_) :"
   ]
  },
  {
   "cell_type": "markdown",
   "id": "9c301fe8",
   "metadata": {},
   "source": [
    "| Operator              | Example               | Meaning                   | Result                                    |\n",
    "| :-----------------:   | :-----------------:   | :-----------------------: | :-------------------------------------:   | \n",
    "|       `==`\t        |   __a == b__          |  Equal to\t                | `True` if a is equal to b, `False` otherwise  | \n",
    "|       `!=`            |   __a != b__          |  Not equal to             | `True` if not equal, `False` otherwise        |\n",
    "|       `< `            |   __a < b__           |  Less than                | `True` if a is less than b, `False` otherwise |\n",
    "|       `<=`            |   __a <= b__          |  Less than or equal to    | `True` if a is less than or equal to b, `False` otherwise |\n",
    "|       `> `            |   __a > b__           |  Greater than             | `True` if a is greater than b, `False` otherwise |\n",
    "|       `>=`            |   __a >= b__          |  Greater than or equal to |   `True` if a is greater than or equal to b, `False` otherwise |\n"
   ]
  },
  {
   "cell_type": "code",
   "execution_count": 2,
   "id": "e45fc119-fc53-4cde-8455-e8e8d6d9d689",
   "metadata": {},
   "outputs": [
    {
     "name": "stdout",
     "output_type": "stream",
     "text": [
      "True\n",
      "True\n",
      "False\n",
      "True\n",
      "True\n"
     ]
    }
   ],
   "source": [
    "print(1 == 1)\n",
    "# True\n",
    "\n",
    "print(1 < 2)\n",
    "# True\n",
    "\n",
    "print(1 > 2)\n",
    "# False\n",
    "\n",
    "print (1 <= 2)\n",
    "# True\n",
    "\n",
    "# can compare string values also\n",
    "print('cat' != 'dog')\n",
    "# True"
   ]
  },
  {
   "cell_type": "markdown",
   "id": "cac227a1-68c8-4dad-88ae-b9a3064d9033",
   "metadata": {},
   "source": [
    "## Use in Conditional Statements\n",
    "\n",
    "As mentioned above, among other uses, booleans as the result of comparison are used in conditional statements marked by keywords `if`, `elif`, and `else`:"
   ]
  },
  {
   "cell_type": "code",
   "execution_count": 3,
   "id": "2187bd3a-c393-415d-8dd2-2341c2fac0e2",
   "metadata": {},
   "outputs": [
    {
     "name": "stdout",
     "output_type": "stream",
     "text": [
      "Process data with XYZ protocol.\n"
     ]
    }
   ],
   "source": [
    "# using for conditional statements\n",
    "\n",
    "# data is a string of hexadecimal characters\n",
    "data = '6e6f77206973207468652074696d6520746f2073656520746865206b696e67207468652074696d6520746'\n",
    "\n",
    "# but the length will determine what we do with it ...\n",
    "\n",
    "if len(data) > 200:\n",
    "    print('Data is too large to process.')\n",
    "\n",
    "elif len(data) > 50 and len(data) <= 200:\n",
    "    print('Process data with XYZ protocol.')\n",
    "\n",
    "else:\n",
    "    print('Data is useless.')\n",
    "    "
   ]
  },
  {
   "cell_type": "markdown",
   "id": "649227ea-9e71-43a2-90eb-ed365b09f833",
   "metadata": {},
   "source": [
    "The conditional statements begin with `if`, may continue with `elif`, and can finish with `else`. \n",
    "\n",
    "A series of conditional statements always begins with `if`.  It may end there, i.e., you may want to know only whether something is `True` and don't care if it isn't.  But if you do, depending on the number of possibilities, you use either `else` or `elif` or both. \n",
    "\n",
    "Let's look closer at the syntax, first the `if`:\n",
    "\n",
    "```python\n",
    "if <boolean expression>:\n",
    "    <statement>\n",
    "```\n",
    "\n",
    "- `if` is the keyword that kicks off the code\n",
    "\n",
    "- `<boolean expr>` is an expression that evaluates to either `True` or `False`\n",
    "\n",
    "- `:` colon is required immedately after the expression; it causes Python to anticipate an indented code block to follow\n",
    "\n",
    "- `<statement>` is a Python statement, i.e., the command to follow; however, that command is only executed if and only if the expression above can be rendered true.\n",
    "\n",
    "\n",
    "The `elif` is identical but for the keyword and for its place in the conditional statement hierarchy.\n",
    "\n",
    "```python\n",
    "\n",
    "# Note: immediately preceding the elif comes an if statement \n",
    "# then ... if logic demands:\n",
    "\n",
    "elif <boolean expression>:\n",
    "    <statement>\n",
    "```\n",
    "\n",
    "The `else` is merely a default and takes no boolean.  It, like the `elif` ___must___ be preceded by an `if`."
   ]
  },
  {
   "cell_type": "markdown",
   "id": "512982dd",
   "metadata": {},
   "source": [
    "## Use in `while` Loops"
   ]
  },
  {
   "cell_type": "markdown",
   "id": "968e0ac7",
   "metadata": {},
   "source": [
    "In addition to controlling the direction of a program, i.e., what to do given a change in the data, you often need to repeat a block of code several times over.  In fact, depending on the data you are processing, you may have no way of knowing at any given time the number of iterations you'll have to make.  For such situations the `while` loop was ready made.\n",
    "\n",
    "Let's look closer at the `while` loop's syntax:\n",
    "\n",
    "```python\n",
    "while <boolean expression>:\n",
    "    <statements>\n",
    "    \n",
    "```\n",
    "\n",
    "Example use:"
   ]
  },
  {
   "cell_type": "code",
   "execution_count": 4,
   "id": "e7a3417a",
   "metadata": {},
   "outputs": [
    {
     "name": "stdout",
     "output_type": "stream",
     "text": [
      "In the loop\n",
      "In the loop\n",
      "In the loop\n",
      "In the loop\n",
      "In the loop\n"
     ]
    }
   ],
   "source": [
    "counter = 0\n",
    "\n",
    "while counter < 5:\n",
    "    print(\"In the loop\")\n",
    "    counter += 1"
   ]
  },
  {
   "cell_type": "markdown",
   "id": "97a0b3c1",
   "metadata": {},
   "source": [
    "See the next few pages for some brief videos on `while` loop basics. "
   ]
  }
 ],
 "metadata": {
  "kernelspec": {
   "display_name": "jupyterbook-env",
   "language": "python",
   "name": "jupyterbook-env"
  },
  "language_info": {
   "codemirror_mode": {
    "name": "ipython",
    "version": 3
   },
   "file_extension": ".py",
   "mimetype": "text/x-python",
   "name": "python",
   "nbconvert_exporter": "python",
   "pygments_lexer": "ipython3",
   "version": "3.10.5"
  }
 },
 "nbformat": 4,
 "nbformat_minor": 5
}
