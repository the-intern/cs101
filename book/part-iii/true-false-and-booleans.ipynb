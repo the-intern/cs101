{
 "cells": [
  {
   "cell_type": "markdown",
   "id": "3ab05bed-8e20-46e8-9d20-907d6b490bb6",
   "metadata": {},
   "source": [
    "# Control Through True and False"
   ]
  },
  {
   "cell_type": "markdown",
   "id": "606718f0-8935-4c49-9b10-9dd1a939ddba",
   "metadata": {},
   "source": [
    "<div style=\"color: firebrick; background: beige; border: 2px solid black\">\n",
    "      <h1>Note:</h1>\n",
    "      <h2>This page is under construction ...</h2>\n",
    "    </div>"
   ]
  },
  {
   "cell_type": "markdown",
   "id": "69347160-63f9-4165-82a9-b1afd1be7a62",
   "metadata": {},
   "source": [
    "Booleans are one of five basic `types` of objects in Python: \n",
    "\n",
    "1.   `int` (integer)\n",
    "2.   `float` (float)\n",
    "3.   `bool` (Boolean)\n",
    "4.   `str` (string)\n",
    "5.   `None`\n",
    "\n",
    "Mentioned at the start of this part is the need for control over programs.  That comprises the ability to repeat operations and the ability to determine whether something is or is not something else.  Boolean expressions are a large part of the latter, and they are fairly simple in both syntax and operation. "
   ]
  },
  {
   "cell_type": "code",
   "execution_count": 5,
   "id": "e45fc119-fc53-4cde-8455-e8e8d6d9d689",
   "metadata": {},
   "outputs": [
    {
     "name": "stdout",
     "output_type": "stream",
     "text": [
      "True\n",
      "True\n",
      "False\n",
      "True\n"
     ]
    }
   ],
   "source": [
    "print(1 == 1)\n",
    "# True\n",
    "\n",
    "print(1 < 2)\n",
    "# True\n",
    "\n",
    "print(1 > 2)\n",
    "# False\n",
    "\n",
    "print (1 <= 2)\n",
    "# True"
   ]
  },
  {
   "cell_type": "markdown",
   "id": "cac227a1-68c8-4dad-88ae-b9a3064d9033",
   "metadata": {},
   "source": [
    "## Use\n",
    "\n",
    "If boolean expressions are used to control your programs, how is that done?  In two primary contexts:\n",
    "\n",
    "- `while` loops (to be covered in a bit) and\n",
    "- conditional statements marked by keywords `if`, `elif`, and `else`"
   ]
  },
  {
   "cell_type": "code",
   "execution_count": 11,
   "id": "2187bd3a-c393-415d-8dd2-2341c2fac0e2",
   "metadata": {},
   "outputs": [
    {
     "name": "stdout",
     "output_type": "stream",
     "text": [
      "Process data with XYZ protocol.\n"
     ]
    }
   ],
   "source": [
    "# using for conditional statements\n",
    "\n",
    "# data is a string of hexadecimal characters\n",
    "data = '6e6f77206973207468652074696d6520746f2073656520746865206b696e67207468652074696d6520746'\n",
    "\n",
    "# but the length will determine what we do with it ...\n",
    "\n",
    "if len(data) > 200:\n",
    "    print('Data is too large to process.')\n",
    "\n",
    "elif len(data) > 50 and len(data) <= 200:\n",
    "    print('Process data with XYZ protocol.')\n",
    "\n",
    "else:\n",
    "    print('Data is useless.')\n",
    "    "
   ]
  },
  {
   "cell_type": "markdown",
   "id": "649227ea-9e71-43a2-90eb-ed365b09f833",
   "metadata": {},
   "source": [
    "## Conditional Statements\n",
    "\n",
    "Above the conditional statements begine with `if`, `elif`, and `else`.  A series of conditional statements always begins with `if`.  It may end there, i.e., you may want to know only whether something is `True` and don't care if it isn't.  But if you do, depending on the number of possibilities, you use either `else` or `elif` or both. \n",
    "\n",
    "Let's look closer at the syntax, first the `if`:\n",
    "\n",
    "```python\n",
    "if <boolean expression>:\n",
    "    <statement>\n",
    "```\n",
    "\n",
    "- `if` is the keyword that kicks off the code\n",
    "\n",
    "- `<boolean expr>` is an expression that evaluates to either `True` or `False`\n",
    "\n",
    "- `:` colon is required immedately after the expression; it causes Python to anticipate an indented code block to follow\n",
    "\n",
    "- `<statement>` is a Python statement, i.e., the command to follow; however, that command is only executed if and only if the expression above can be rendered true.\n",
    "\n",
    "\n",
    "\n"
   ]
  },
  {
   "cell_type": "markdown",
   "id": "0282c262-8384-448a-a8e6-9e85084c57eb",
   "metadata": {},
   "source": [
    "## Boolean Operators "
   ]
  },
  {
   "cell_type": "markdown",
   "id": "f191f2f8-2993-4bab-995b-b2bbe39fd173",
   "metadata": {},
   "source": [
    "## Booleans Are Data Types"
   ]
  },
  {
   "cell_type": "code",
   "execution_count": 1,
   "id": "414c6d07-3a2a-4059-b52e-5e34653413b0",
   "metadata": {},
   "outputs": [
    {
     "data": {
      "text/plain": [
       "bool"
      ]
     },
     "execution_count": 1,
     "metadata": {},
     "output_type": "execute_result"
    }
   ],
   "source": [
    "type(True)"
   ]
  },
  {
   "cell_type": "code",
   "execution_count": 2,
   "id": "b5565a8b-159f-41db-898e-a4e4236ae0fa",
   "metadata": {},
   "outputs": [
    {
     "data": {
      "text/plain": [
       "bool"
      ]
     },
     "execution_count": 2,
     "metadata": {},
     "output_type": "execute_result"
    }
   ],
   "source": [
    "type(False)"
   ]
  }
 ],
 "metadata": {
  "kernelspec": {
   "display_name": "jupyterbook-env",
   "language": "python",
   "name": "jupyterbook-env"
  },
  "language_info": {
   "codemirror_mode": {
    "name": "ipython",
    "version": 3
   },
   "file_extension": ".py",
   "mimetype": "text/x-python",
   "name": "python",
   "nbconvert_exporter": "python",
   "pygments_lexer": "ipython3",
   "version": "3.10.5"
  }
 },
 "nbformat": 4,
 "nbformat_minor": 5
}
