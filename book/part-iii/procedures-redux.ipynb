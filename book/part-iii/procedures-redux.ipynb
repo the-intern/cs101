{
 "cells": [
  {
   "cell_type": "markdown",
   "id": "24ef5dd6-04d8-415e-af04-949d80d11c8e",
   "metadata": {},
   "source": [
    "# Procedures Redux"
   ]
  },
  {
   "cell_type": "markdown",
   "id": "7c58c8ae-34ff-46b6-b619-c47489128521",
   "metadata": {},
   "source": [
    "We looked briefly at procedures before.  Now we need to get our hands a tad dirtier and understand procedures better.  But, for now, let's forego any more discussion of their purposes and uses in the abstract.  Let's just write some, but with some explanation.\n",
    "\n"
   ]
  },
  {
   "cell_type": "markdown",
   "id": "f8d87294",
   "metadata": {},
   "source": [
    "Let's say your program takes in user input, input that might vary but, in every case, you have to process the input and provide a message back to the user.  Here, we have provided a program that converts celsius to fahrenheit, and so to the user it appears so:\n",
    "\n",
    "```python\n",
    "\n",
    ">>> \"Please enter the temperature you want to convert: \"\n",
    "20 # user's input\n",
    ">>> \"The temperature in celsius of 20 degrees is equivalent to 68.0 degrees in fahrenheit.\"\n"
   ]
  },
  {
   "cell_type": "markdown",
   "id": "c64c4794",
   "metadata": {},
   "source": [
    "But in the background you have to do something like this:\n",
    "\n",
    "```python\n",
    "# [1] take in user input\n",
    "userinput = input(\"Please enter the temperature you want to convert: \")\n",
    "\n",
    "# convert input to integer\n",
    "userinput_to_int = int(userinput)\n",
    "\n",
    "# calculate the temperature in celsius\n",
    "celsius_temp = userinput_to_int * 9 / 5 + 32\n",
    "\n",
    "# return information to user\n",
    "print(f\"The temperature in celsius of {userinput_to_int} degrees is equivalent to {celsius_temp} degrees in fahrenheit.\")\n",
    "\n",
    "```\n",
    "\n",
    "If your response to this is, \"So what?\", then you fail to understand how extensive and in-depth code can be.  For example, what if the user also wants to get celsius from fahrenheit?  Rankine to fahrenheit? Kelvin to fahrenheit?\n",
    "\n",
    "And that's just for starters.\n",
    "\n",
    "Not only is creating a single module for each eventuality a mug's game, but you also have to control how you direct the program from one to the other.  \n",
    "\n",
    "\n"
   ]
  },
  {
   "cell_type": "markdown",
   "id": "67f4fc83",
   "metadata": {},
   "source": []
  }
 ],
 "metadata": {
  "kernelspec": {
   "display_name": "Python 3.10.5 ('jupyterbook-env')",
   "language": "python",
   "name": "python3"
  },
  "language_info": {
   "codemirror_mode": {
    "name": "ipython",
    "version": 3
   },
   "file_extension": ".py",
   "mimetype": "text/x-python",
   "name": "python",
   "nbconvert_exporter": "python",
   "pygments_lexer": "ipython3",
   "version": "3.10.5"
  },
  "vscode": {
   "interpreter": {
    "hash": "7abb8d9814038c526395fc1465b541e1649bf4442093ad31b35e8177e1cf2168"
   }
  }
 },
 "nbformat": 4,
 "nbformat_minor": 5
}
