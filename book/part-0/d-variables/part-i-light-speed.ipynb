{
 "cells": [
  {
   "cell_type": "markdown",
   "metadata": {},
   "source": [
    "# Speed of Light"
   ]
  },
  {
   "cell_type": "markdown",
   "metadata": {},
   "source": [
    "## Math Operators in Python\n",
    "\n",
    "The basic operators are:\n",
    "|Operator|Meaning|\n",
    "|--------|-------|\n",
    "| `+`    | add   |\n",
    "| `-`    | subtract   |\n",
    "| `*`    | multiply   |\n",
    "| `/`    | divide   |\n",
    "| `//`    | floor division   |\n",
    "| `%`    | modulo   |\n",
    "| `**`    | exponentiation   |\n",
    "\n",
    "You can use a the cell block below to try them out.  Particularly interesting in the `%` modulo operator.\n"
   ]
  },
  {
   "cell_type": "code",
   "execution_count": null,
   "metadata": {},
   "outputs": [],
   "source": []
  },
  {
   "cell_type": "markdown",
   "metadata": {},
   "source": [
    "## Python Expressions\n",
    "\n",
    "Math expressions are perhaps the easiest with which to start in most any programming language because they follow the pattern already determined in math.  That is, if you have several integers, combined with more than one type of operator, you follow the order of operation you find in math.  Hence:"
   ]
  },
  {
   "cell_type": "code",
   "execution_count": null,
   "metadata": {},
   "outputs": [],
   "source": [
    "10 * 2 - 3  == 17"
   ]
  },
  {
   "cell_type": "markdown",
   "metadata": {},
   "source": [
    "If you run the cell above, the result is `True`, i.e., Python will first multiply the `10` by `2` and then subtract `3`.  The `double equals` sign merely asks for a `boolean` (`True` or `False`) response.\n",
    "\n",
    "But even if you don't remember the _order of precedence_, you can simply use parentheses as you might do in math:"
   ]
  },
  {
   "cell_type": "code",
   "execution_count": null,
   "metadata": {},
   "outputs": [],
   "source": [
    "(10 * 2) - 3 == 17"
   ]
  },
  {
   "cell_type": "markdown",
   "metadata": {},
   "source": [
    "## Speed of Light and a Precursor to Variables\n",
    "\n",
    "Let's say you want to to determine how far light travels in centimeters after one nanosecond given:\n",
    "\n",
    "- the speed of light is 299792458 meters per second\n",
    "- one meter is 100 centimeters\n",
    "- one nanosecond is one billionth (1/1000000000) of a second\n",
    "\n",
    "One reason for dwelling on this partcular problem is because it is fundamental to computer science.  Computers today execute billions of steps (or `instructions`) every second.  The computer processor used to create this page has a number of cores, each of which operates at 3.6 GHz.\n",
    "\n",
    "A GHz, or `gigahertz`, is a billion cycles per second.  That means, one core on this computer processes 3,600,000,000 cycles per second.\n",
    "\n",
    "Each instruction is a small step among the many that constitute the entire process that must run for a program.  \n",
    "\n",
    "By running the code below, you can compute how far light travels in centimeters while this computer completes one cycle:"
   ]
  },
  {
   "cell_type": "code",
   "execution_count": null,
   "metadata": {},
   "outputs": [],
   "source": [
    "299792458 * 100 * 1/1000000000 * 1/3.6 "
   ]
  },
  {
   "cell_type": "markdown",
   "metadata": {},
   "source": [
    "That is, maybe half the length of a dollar bill.\n",
    "\n",
    "A processor has to be small to execute quickly the programs it is fed.  In fact, were computer processors any larger than the size of a dollar bill, then you couldn't even send light from one end of the processor to the other before finishing the execution of a single step --- one step of perhaps millions --- in a computer program.  And speed matters."
   ]
  },
  {
   "cell_type": "markdown",
   "metadata": {},
   "source": [
    "## Variables\n",
    "\n",
    "Which, in a way, brings us to one of the other aspects of time limitations, that which is inherent in the human condition.  \n",
    "\n",
    "Look at that expression above giving us the distance light travels during a cycle.  Well, a programmer cannot be expected to keep track of inputs such these or simply type them in anticipation of some problem.  He, being human, does not have the time or the memory space.  Moreover, he cannot anticipate all the uses to which it might be put.  Hence, `variables`.  \n",
    "\n"
   ]
  },
  {
   "cell_type": "markdown",
   "metadata": {},
   "source": [
    "### Variable Naming Requirements and Conventions\n",
    "\n",
    "Variables are names given to expressions or values.  Python has strict rules for variables; not many, but strict:\n",
    "- they can contain any letter, integer, or the underscore `_`\n",
    "- these can come in any sequence with one caveat: variables _cannot_ begin with an integer\n",
    "- they cannot contain a space\n",
    "- they should never, ever be the same as a `keyword` or `built-in type` in Python\n",
    "\n",
    "By convention, longer variable names are in `snake_case`.\n",
    "\n",
    "Below `assign` values to variables using memorable names:"
   ]
  },
  {
   "cell_type": "code",
   "execution_count": null,
   "metadata": {},
   "outputs": [],
   "source": [
    "# speed_of_light = \n",
    "# centimeters_per_meter = \n",
    "# billionth = \n",
    "# distance_traveled = \n"
   ]
  },
  {
   "cell_type": "code",
   "execution_count": null,
   "metadata": {},
   "outputs": [],
   "source": []
  }
 ],
 "metadata": {
  "kernelspec": {
   "display_name": "Python 3.8.13 64-bit ('anaconda3')",
   "language": "python",
   "name": "python3"
  },
  "language_info": {
   "codemirror_mode": {
    "name": "ipython",
    "version": 3
   },
   "file_extension": ".py",
   "mimetype": "text/x-python",
   "name": "python",
   "nbconvert_exporter": "python",
   "pygments_lexer": "ipython3",
   "version": "3.8.13"
  },
  "orig_nbformat": 4,
  "vscode": {
   "interpreter": {
    "hash": "910010b9128fec0bda95a110deaa2f7baca3ef79608cce04836aad2a922a4fb5"
   }
  }
 },
 "nbformat": 4,
 "nbformat_minor": 2
}
