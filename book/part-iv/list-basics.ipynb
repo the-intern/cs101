{
 "cells": [
  {
   "cell_type": "markdown",
   "metadata": {},
   "source": [
    "# List Basics\n",
    "\n",
    "Note:\n",
    "\n",
    "You can experiment with this code --- ___and you should___ --- by going here:\n",
    "\n",
    "[![Binder](https://mybinder.org/badge_logo.svg)](https://mybinder.org/v2/gh/caterinadiacomo/caterina-man-made-code/part-iv-data-structs?labpath=src%2Fpart-iv-data-structs%2F)"
   ]
  },
  {
   "cell_type": "markdown",
   "metadata": {},
   "source": [
    "Strings and lists have a great many things in common:\n",
    "\n",
    "| strings and lists     |\n",
    "| -----------------     |\n",
    "| length: `len()`       |\n",
    "| use of `in`           |\n",
    "| ordered               |\n",
    "| `indexed`             |\n",
    "| `slice-able`          |\n",
    "| iterate over          |\n",
    "\n"
   ]
  },
  {
   "cell_type": "markdown",
   "metadata": {},
   "source": [
    "## List Creation\n",
    "\n",
    "A list can be created as a container of comma-separated values (usually called \"items\") between square brackets. As said previously, lists might contain items of different types but often the items all have the same type.  (That is really up to you and your use case.)"
   ]
  },
  {
   "cell_type": "code",
   "execution_count": 130,
   "metadata": {},
   "outputs": [
    {
     "data": {
      "text/plain": [
       "[1, 4, 9, 16, 25]"
      ]
     },
     "execution_count": 130,
     "metadata": {},
     "output_type": "execute_result"
    }
   ],
   "source": [
    "# square brackets with comma-separated items\n",
    "grocery_list = ['whole milk', 'eggs', 'steak'] \n",
    "family_members = ['Fred', 'Alice', 'Ted', 'Abundantia', 'George', 'Betty', 'Aloysius']\n",
    "\n",
    "# integer list\n",
    "squares = [1, 4, 9, 16, 25]\n",
    "square_floats = [1.0, 4.0, 9.0, 25.0]\n",
    "squares"
   ]
  },
  {
   "cell_type": "code",
   "execution_count": 131,
   "metadata": {},
   "outputs": [
    {
     "data": {
      "text/plain": [
       "[[3, 4, 5], [7, 8, 9]]"
      ]
     },
     "execution_count": 131,
     "metadata": {},
     "output_type": "execute_result"
    }
   ],
   "source": [
    "# combined data types\n",
    "\n",
    "bugs_info = ['Bugs', 87, True]\n",
    "\n",
    "# nested list -- list of lists\n",
    "more_data = [[3,4,5], [7,8,9]]\n",
    "\n",
    "more_data"
   ]
  },
  {
   "cell_type": "markdown",
   "metadata": {},
   "source": [
    "## Reading Items from a List: Indexing and Slicing\n",
    "\n",
    "Lists, being a sequential (or ordered) collection of items, have an `index` to them just as with strings.  "
   ]
  },
  {
   "cell_type": "code",
   "execution_count": 132,
   "metadata": {},
   "outputs": [
    {
     "name": "stdout",
     "output_type": "stream",
     "text": [
      "Bugs 87 True\n"
     ]
    }
   ],
   "source": [
    "# extracting/reading the data in a list\n",
    "# using indexing\n",
    "name = bugs_info[0]\n",
    "age = bugs_info[1]\n",
    "hare = bugs_info[2]\n",
    "\n",
    "print(name, age, hare)"
   ]
  },
  {
   "cell_type": "markdown",
   "metadata": {},
   "source": [
    "And, just as with strings, lists can be `sliced`:"
   ]
  },
  {
   "cell_type": "code",
   "execution_count": 133,
   "metadata": {},
   "outputs": [
    {
     "data": {
      "text/plain": [
       "['Fred', 'Alice', 'Ted', 'Abundantia']"
      ]
     },
     "execution_count": 133,
     "metadata": {},
     "output_type": "execute_result"
    }
   ],
   "source": [
    "# slicing from a list\n",
    "older_family_members = family_members[0:4]\n",
    "older_family_members"
   ]
  },
  {
   "cell_type": "markdown",
   "metadata": {},
   "source": [
    "## Changing/Updating Items in a List\n",
    "\n",
    "Unlike strings, lists can be altered, i.e., they are mutable.  Thus:"
   ]
  },
  {
   "cell_type": "code",
   "execution_count": 134,
   "metadata": {},
   "outputs": [
    {
     "data": {
      "text/plain": [
       "['Bugs', 88, True]"
      ]
     },
     "execution_count": 134,
     "metadata": {},
     "output_type": "execute_result"
    }
   ],
   "source": [
    "# Bugs has a birthday\n",
    "bugs_info[1] = 88\n",
    "bugs_info"
   ]
  },
  {
   "cell_type": "markdown",
   "metadata": {},
   "source": [
    "## Adding Items to a List\n",
    "\n",
    "As with strings, lists come with a host of `methods`, i.e., functions / processes that make your life easier.  One of these is `append()`, which allows you to easily add an item to the end of the list:\n",
    "\n"
   ]
  },
  {
   "cell_type": "code",
   "execution_count": 135,
   "metadata": {},
   "outputs": [
    {
     "data": {
      "text/plain": [
       "['Fred',\n",
       " 'Alice',\n",
       " 'Ted',\n",
       " 'Abundantia',\n",
       " 'George',\n",
       " 'Betty',\n",
       " 'Aloysius',\n",
       " 'Ulysses']"
      ]
     },
     "execution_count": 135,
     "metadata": {},
     "output_type": "execute_result"
    }
   ],
   "source": [
    "family_members.append('Ulysses')\n",
    "# now Ulysses has joined the clan\n",
    "family_members"
   ]
  },
  {
   "cell_type": "markdown",
   "metadata": {},
   "source": [
    "Moreover, you can use the list `insert()` method, in the form `list.insert(index, new_item)`\n",
    "\n",
    "That is, you insert an item at a given index position. \n",
    "\n",
    "The first argument is the index of the element before which to insert, so `a.insert(0, x)` inserts at the front of the list.\n",
    "\n",
    "Whereas `a.insert(len(a), x)` is equivalent to `a.append(x)`."
   ]
  },
  {
   "cell_type": "code",
   "execution_count": 136,
   "metadata": {},
   "outputs": [
    {
     "data": {
      "text/plain": [
       "['Guido',\n",
       " 'Fred',\n",
       " 'Alice',\n",
       " 'Ted',\n",
       " 'Abundantia',\n",
       " 'George',\n",
       " 'Betty',\n",
       " 'Aloysius',\n",
       " 'Ulysses']"
      ]
     },
     "execution_count": 136,
     "metadata": {},
     "output_type": "execute_result"
    }
   ],
   "source": [
    "# new patriarch in family\n",
    "family_members.insert(0, 'Guido')\n",
    "family_members"
   ]
  },
  {
   "cell_type": "markdown",
   "metadata": {},
   "source": [
    "## Deleting or Removing an Item from a List\n"
   ]
  },
  {
   "cell_type": "markdown",
   "metadata": {},
   "source": [
    "Python offers a number of methods in order to remove or delete an item from a list.  But they are distinguishable primarily by how they are used.\n",
    "\n",
    "See [Python docs](https://docs.python.org/3/tutorial/datastructures.html#more-on-lists)\n",
    "\n",
    "- `list.remove(x)`\n",
    "> Remove the __first__ item from the list whose __value__ is equal to x. It raises a ValueError if there is no such item.\n",
    "\n",
    "- `list.pop([i])`\n",
    "> Remove the item at the given position in the list, and return it. If no index is specified, a.pop() removes and returns the last item in the list. (___The square brackets around the i in the method signature denote that the parameter is optional, not that you should type square brackets at that position.___ You will see this notation frequently in the Python Library Reference.)\n",
    "\n",
    "- `list.clear()`\n",
    "> Remove all items from the list. "
   ]
  },
  {
   "cell_type": "code",
   "execution_count": 137,
   "metadata": {},
   "outputs": [],
   "source": [
    "# remove\n"
   ]
  },
  {
   "cell_type": "markdown",
   "metadata": {},
   "source": [
    "## The `del` statement\n",
    "\n",
    "The `del` statement removes an item from a list given its index position instead of its value.  That is, it differs from the `pop()` method which returns a value. \n",
    "\n",
    "The del statement can also be used to remove slices from a list or clear the entire list:\n",
    "\n"
   ]
  },
  {
   "cell_type": "code",
   "execution_count": 138,
   "metadata": {},
   "outputs": [
    {
     "data": {
      "text/plain": [
       "[1, 66.25, 333, 333, 1234.5]"
      ]
     },
     "execution_count": 138,
     "metadata": {},
     "output_type": "execute_result"
    }
   ],
   "source": [
    "\n",
    "a = [-1, 1, 66.25, 333, 333, 1234.5]\n",
    "del a[0]\n",
    "a"
   ]
  },
  {
   "cell_type": "code",
   "execution_count": 139,
   "metadata": {},
   "outputs": [
    {
     "data": {
      "text/plain": [
       "[1, 66.25, 1234.5]"
      ]
     },
     "execution_count": 139,
     "metadata": {},
     "output_type": "execute_result"
    }
   ],
   "source": [
    "del a[2:4]\n",
    "a\n"
   ]
  },
  {
   "cell_type": "code",
   "execution_count": 140,
   "metadata": {},
   "outputs": [
    {
     "name": "stdout",
     "output_type": "stream",
     "text": [
      "[]\n"
     ]
    }
   ],
   "source": [
    "del a[:]\n",
    "print(a)\n",
    "# now a is empty, but still around"
   ]
  },
  {
   "cell_type": "markdown",
   "metadata": {},
   "source": [
    "Calling `del a` obliterates `a`.  If you attempt to use a, you will throw a `NameError: name 'a' is not defined`"
   ]
  },
  {
   "cell_type": "code",
   "execution_count": null,
   "metadata": {},
   "outputs": [],
   "source": []
  }
 ],
 "metadata": {
  "kernelspec": {
   "display_name": "Python 3.10.5 ('jupyterbook-env')",
   "language": "python",
   "name": "python3"
  },
  "language_info": {
   "codemirror_mode": {
    "name": "ipython",
    "version": 3
   },
   "file_extension": ".py",
   "mimetype": "text/x-python",
   "name": "python",
   "nbconvert_exporter": "python",
   "pygments_lexer": "ipython3",
   "version": "3.10.5"
  },
  "orig_nbformat": 4,
  "vscode": {
   "interpreter": {
    "hash": "7abb8d9814038c526395fc1465b541e1649bf4442093ad31b35e8177e1cf2168"
   }
  }
 },
 "nbformat": 4,
 "nbformat_minor": 2
}
