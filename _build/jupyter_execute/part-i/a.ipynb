{
 "cells": [
  {
   "cell_type": "markdown",
   "id": "899ba520",
   "metadata": {},
   "source": [
    "# A\n",
    "\n",
    "````{card} Man Made Code\n",
    "> God made the angels to show him splendor, as he made animals for innocence and plants for their simplicity.  But _Man_ he made to serve him wittily, in the tangle of his mind.\n",
    "\n",
    "+++\n",
    "Sir Thomas More, _Man for All Seasons_ (Bolt)\n",
    "\n",
    "````\n",
    "\n",
    "## Mind\n",
    "\n",
    "Perhaps apocryphal, nonetheless it is said that, above the entrance to ancient schools of philosophy, a cautionary placard read: __Let no one enter who has not studied _The Elements_.__\n",
    "\n",
    "The point need hardly have been made many centuries ago, but here __we__ are.\n",
    "\n",
    "__The Elements__ are those of Euclid, the ancient mathematician whose work on the principles and theorems and proofs of geometry were considered part of a basic, foundational education.\n",
    "\n",
    "Why? Among other reasons, the close study of it trained the mind to be more precise in its reasoning, the very attribute that enables human beings to irrigate deserts, cure illnesses, construct cities, cultivate land, build a culture.\n",
    "\n",
    "Abraham Lincoln, when traveling the court circuit on horseback, studied the __The Elements__ -- and not because he aspired to land surveyor.  He sought to improve his ability to reason, to argue, to understand.\n",
    "\n",
    "We might study biology or chemistry or history primarily (not solely) to understand the subject.  But a number of topics we study foremost for something beyond that.\n",
    "\n",
    "Geometry, algebra, music all have a first end; but it's their effect on apprehension, judgment, and reason that make them valuable beyond their immediate material. Computer science and its close cousin computer programming are like that.\n",
    "\n",
    "Despite the popular notion, computers are as dumb as a box of rocks after you've removed all the smart ones.  Why?  Well, because a computer is, almost literally, rock.  It's a series of electrical connections among a collection of silicon with some clever etching.\n",
    "\n",
    "Perhaps an primitive description, but closer to true than the thought that computers might someday exceed the power of all human reason.\n",
    "\n",
    "No.  They are dumb.  They might do monumental things; indeed, the very reason we build, program, and use them is to do things we normally can't without an awful lot of time, as in by the time the sun goes super nova.\n",
    "\n",
    "But just as they cannot build themselves, they cannot program themselves.  The marvel of machine learning algorithms, deep learning, the internet, and myriad other advancements in computational technology all come from the hand of human beings.\n",
    "\n",
    "Man[^1] is singular in his rational nature.  He grapples with the obstacles and difficulties and questions and issues of his mind and world.  Upon a solution, he can sometimes put that solution into effect.  But precise, orderly thinking, even if hidden in a tangle of creativity, is required.\n",
    "\n",
    "The training afforded by geometry or mathematics is one means to gaining proficiency in problem solving.  It happens, however, that computational problem solving is yet another.\n",
    "\n",
    "## Math\n",
    "\n",
    "However, learning a programming language and putting it to good use is __not__ the same as learning advanced mathematics.  True, math mastery (of whatever level) and plying away at programs have much in common.  But to start to code often requires not much math.\n",
    "\n",
    "That is a relief to many.  But it comes with a caveat:  Do not be surprised that you learn quite a bit of math along the way and, more, the day comes when you'll want to know more because you better appreciate how far good math skills take you in programming.\n",
    "\n",
    "## Motivation\n",
    "\n",
    "Besides some hardware, software, and time, perhaps the only other things you need are the ability to speak one  language and the desire to learn.\n",
    "\n",
    "Language isn't merely a medium by which information is conveyed and learned.  It is also an assurance that you can learn a programming language as well.\n",
    "\n",
    "Not only are the latter simpler but the neurological feats necessary for you to both understand and transmit thought to another human being far exceeds what is required to learn any other subject, even how to write computer programs.\n",
    "\n",
    "Have you all that, you need only the desire to make the computer do your bidding.  All the rest follows.\n",
    "\n",
    "\n",
    "```{tableofcontents}\n",
    "```\n",
    "\n",
    "[^1]: _The use of the traditional inclusive generic pronoun \"he\" is a decision of language, not of gender justice. There are only six alternatives. (1) We could use the grammatically misleading and numerically incorrect \"they.\" But when we say \"one baby was healthier than the others because they didn't drink that milk,\" we do not know whether the antecedent of \"they\" is \"one\" or \"others,\" so we don't know whether to give or take away the milk. Such language codes could be dangerous to baby's health. (2) Another alternative is the politically intrusive \"in-your-face\" generic \"she,\" which I would probably use if I were an angry, politically intrusive, in-your-face woman, but I am not any of those things. (3) Changing \"he\" to \"he or she\" refutes itself in such comically clumsy and ugly revisions as the following: \"What does it profit a man or woman if he or she gains the whole world but loses his or her own soul? Or what shall a man or woman give in exchange for his or her soul?\" The answer is: he or she will give up his or her linguistic sanity. (4) We could also be both intrusive and clumsy by saying \"she or he.\" (5) Or we could use the neuter \"it,\" which is both dehumanizing and inaccurate. (6) Or we could combine all the linguistic garbage together and use \"she or he or it,\" which, abbreviated, would sound like \"sh . . . it.\" I believe in the equal intelligence and value of women, but not in the intelligence or value of \"political correctness,\" linguistic ugliness, grammatical inaccuracy, conceptual confusion, or dehumanizing pronouns._ __Socratic Logic__, Peter Kreeft"
   ]
  }
 ],
 "metadata": {
  "jupytext": {
   "formats": "md:myst",
   "text_representation": {
    "extension": ".md",
    "format_name": "myst"
   }
  },
  "kernelspec": {
   "display_name": "Python 3",
   "language": "python",
   "name": "python3"
  },
  "language_info": {
   "codemirror_mode": {
    "name": "ipython",
    "version": 3
   },
   "file_extension": ".py",
   "mimetype": "text/x-python",
   "name": "python",
   "nbconvert_exporter": "python",
   "pygments_lexer": "ipython3",
   "version": "3.10.5"
  },
  "source_map": [
   11
  ]
 },
 "nbformat": 4,
 "nbformat_minor": 5
}